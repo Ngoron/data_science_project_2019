{
 "cells": [
  {
   "cell_type": "markdown",
   "metadata": {},
   "source": [
    "# Exoplanet Ranking\n",
    "Data discovering, preprocessing, computing simillarity and clustering.\n",
    "\n",
    "**!! What is actually an exoplanet?**"
   ]
  },
  {
   "cell_type": "markdown",
   "metadata": {},
   "source": [
    "## 1. Data Discovering\n",
    "> To detect the important data it's necessary to go through the dataset and check what the columns stand for, which are useful for further processing, what the columns stand for. In this stage we will also fill information about the Earth (planet with rowid 0), since actual data is \"random\".\n",
    "\n",
    "> Some data has been already removed in the very first processing (e.g. links, duplicated values, irrelevant data). Original dataset: `data/data_original.csv`"
   ]
  },
  {
   "cell_type": "code",
   "execution_count": null,
   "metadata": {},
   "outputs": [],
   "source": [
    "# imports\n",
    "#%matplotlib inline\n",
    "import pandas as pd\n",
    "import numpy as np\n",
    "import matplotlib.pyplot as plt\n",
    "import seaborn as sns\n",
    "sns.set()\n",
    "from sklearn import preprocessing\n",
    "from sklearn.cluster import KMeans\n",
    "from sklearn.decomposition import TruncatedSVD\n",
    "from sklearn.metrics.pairwise import cosine_similarity\n",
    "from scipy.spatial import distance"
   ]
  },
  {
   "cell_type": "code",
   "execution_count": null,
   "metadata": {
    "scrolled": false
   },
   "outputs": [],
   "source": [
    "# loading data\n",
    "df_origin = pd.read_csv(\"../data/data_preprocess.csv\", index_col=\"rowid\")\n",
    "print(\"Number of:\\n\\trows = {}\\n\\tcolumns = {}\".format(df_origin.shape[0], df_origin.shape[1]))\n",
    "display(df_origin.head())\n",
    "display(df_origin.info())"
   ]
  },
  {
   "cell_type": "markdown",
   "metadata": {},
   "source": [
    "### 1.1 Missing values"
   ]
  },
  {
   "cell_type": "code",
   "execution_count": null,
   "metadata": {
    "scrolled": false
   },
   "outputs": [],
   "source": [
    "# number of missing values in each column\n",
    "display(df_origin.notnull().sum() / (df_origin.notnull().sum() + df_origin.isnull().sum()))"
   ]
  },
  {
   "cell_type": "markdown",
   "metadata": {},
   "source": [
    "> The most of the values are fully filled, but there are two columns with missing values: column `fpl_eccen` and column `fst_spt`. `fpl_eccen` holds  the eccentricity of planet's orbit (Amount by which the orbit of the planet deviates from a perfect circle). `fst_spt` holds spectral type of the star that the planet orbits.\n",
    "> Since there is only 33 % -- 38 %  valid values, it is better to remove these columns then trying to compute the value using for example k-nn."
   ]
  },
  {
   "cell_type": "code",
   "execution_count": null,
   "metadata": {
    "scrolled": true
   },
   "outputs": [],
   "source": [
    "df_modified = df_origin.drop(labels=[\"fpl_eccen\", \"fst_spt\"], axis=1)\n",
    "print(df_modified.columns)"
   ]
  },
  {
   "cell_type": "markdown",
   "metadata": {},
   "source": [
    "### 1.2 Non-numeric values\n",
    "> There is a column `fst_metratio` containing information about which element is in abundance on the planet. The column contains data type `object`.\n"
   ]
  },
  {
   "cell_type": "code",
   "execution_count": null,
   "metadata": {},
   "outputs": [],
   "source": [
    "df_modified[\"fst_metratio\"].unique()"
   ]
  },
  {
   "cell_type": "markdown",
   "metadata": {},
   "source": [
    "> `Fe/H` denotes iron abundance and `M/H` or `m/H` denotes general metal content."
   ]
  },
  {
   "cell_type": "code",
   "execution_count": null,
   "metadata": {},
   "outputs": [],
   "source": [
    "# replacing all occurancies of \"m/H\" with \"M/H\" and then replacing with \n",
    "\n",
    "df_modified.loc[df_modified[\"fst_metratio\"] == \"[m/H]\", \"fst_metratio\"] = \"[M/H]\"\n",
    "df_modified[\"fst_metratio\"] = df_modified[\"fst_metratio\"].astype(\"category\")\n",
    "cat_columns = df_modified.select_dtypes(\"category\").columns\n",
    "cont_cols = list(df_modified.select_dtypes(exclude=\"category\").columns) # columns with continuous values\n",
    "dis_cols = list(cat_columns) # cols with discrete values\n",
    "df_modified[cat_columns] = df_modified[cat_columns].apply(lambda x: x.cat.codes)\n",
    "\n",
    "df_modified[\"fst_metratio\"].unique()"
   ]
  },
  {
   "cell_type": "markdown",
   "metadata": {},
   "source": [
    "## 1.3 Earth Filling-in"
   ]
  },
  {
   "cell_type": "code",
   "execution_count": null,
   "metadata": {},
   "outputs": [],
   "source": [
    "def dropColumn(elem, lists):\n",
    "    for l in lists:\n",
    "        if(elem in l):\n",
    "            l.remove(elem)"
   ]
  },
  {
   "cell_type": "code",
   "execution_count": null,
   "metadata": {},
   "outputs": [],
   "source": [
    "display(df_modified.describe())\n",
    "\n",
    "df_modified.loc[0, \"fpl_orbper\"] = 365.256363 # orbital period in days\n",
    "df_modified.loc[0, \"fpl_smax\"] = 1.000001018 # the longest radius of an elliptic orbit\n",
    "df_modified.loc[0, \"fpl_bmasse\"] = 1 # mass of the planet (earth unit)\n",
    "df_modified.loc[0, \"fpl_rade\"] = 1 # radius (earth unit)\n",
    "df_modified.loc[0, \"fpl_dens\"] = 5.51 # density of the planet (g/cm**3)\n",
    "df_modified.loc[0, \"fpl_tranflag\"] = 1 # does planet transit the star\n",
    "df_modified.loc[0, \"fpl_cbflag\"] = 0 # does planet orbit a binary solar system\n",
    "df_modified.loc[0, \"fpl_snum\"] = 1 # number of stars in the solar system\n",
    "df_modified.loc[0, \"dec\"] = 23.4 # declination of the planetary system\n",
    "df_modified.drop(labels=[\"fst_optmag\"], axis=1, inplace=True) # optical magnitude\n",
    "dropColumn(\"fst_optmag\", [cont_cols, dis_cols])\n",
    "df_modified.drop(labels=[\"fst_nirmag\"], axis=1, inplace=True) # near-IR magnitude\n",
    "dropColumn(\"fst_nirmag\", [cont_cols, dis_cols])\n",
    "df_modified.loc[0, \"fst_teff\"] = 252 # effective temperature in Kelvins\n",
    "df_modified.loc[0, \"fst_logg\"] = 5.437751 # gravity acceleration at the star surface log10(cm/s**2)\n",
    "df_modified.loc[0, \"fst_lum\"] = 0 # star lumonisty log10(lumonisity)\n",
    "df_modified.loc[0, \"fst_mass\"] = 1 # stellar mass (sun unit)\n",
    "df_modified.loc[0, \"fst_rad\"] = 1 # stellar raidus (sun unit)\n",
    "df_modified.loc[0, \"fst_met\"] = 0.012 # star metallicity\n",
    "df_modified.loc[0, \"fst_metratio\"] = 0 # metal abundance (in comparison to sun)\n",
    "df_modified.loc[0, \"fst_age\"] = 4.603 # stellar age (in billions)\n",
    "df_modified.drop(labels=[\"simil\"], axis=1, inplace=True) # random similarity (for visualizing purposes)\n",
    "dropColumn(\"simil\", [cont_cols, dis_cols])\n",
    "\n",
    "display(df_modified.head())\n",
    "print(\"cols with continuous values:\", cont_cols)\n",
    "print(\"cols with discrete values:\", dis_cols)"
   ]
  },
  {
   "cell_type": "markdown",
   "metadata": {},
   "source": [
    "## 2. General Data Analysis\n",
    "> Analysing the data: \n",
    "* mean and deviation\n",
    "* distribution\n",
    "* joint distribution,\n",
    "* ... "
   ]
  },
  {
   "cell_type": "code",
   "execution_count": null,
   "metadata": {},
   "outputs": [],
   "source": [
    "df_vis = df_modified.copy()\n",
    "# cont_cols -- continuous columns\n",
    "# dis_cols -- discrete columns"
   ]
  },
  {
   "cell_type": "markdown",
   "metadata": {},
   "source": [
    "### 2.1 Mean, Deviation and Ratio"
   ]
  },
  {
   "cell_type": "code",
   "execution_count": null,
   "metadata": {
    "scrolled": false
   },
   "outputs": [],
   "source": [
    "# log-scaled mean of the each variable with its standard deviation (sqrt from variance)\n",
    "# there is added 0.1 to the means to avoid computing log of 0\n",
    "mean_log = np.log10(df_vis[cont_cols].mean() + 0.1)\n",
    "std_log = np.log10(df_vis[cont_cols].std() + 0.1)\n",
    "y_vals = np.arange(len(mean_log))\n",
    "\n",
    "fix, ax = plt.subplots(figsize=(15,10))\n",
    "ax.errorbar(mean_log, y_vals, xerr=std_log, ls='none', fmt='o')\n",
    "ax.set_xlabel(\"Value\")\n",
    "ax.set_ylabel(\"Variable\")\n",
    "ax.set_yticks(y_vals)\n",
    "ax.set_yticklabels(cont_cols)\n",
    "ax.set_title(\"Log-scaled means + deviations\")\n",
    "plt.show()"
   ]
  },
  {
   "cell_type": "markdown",
   "metadata": {},
   "source": [
    "> As visible from the figure above, the stellar mass (fst_mass) is pretty constant across all the data. On the other hand orbital period varies from $ 10^{-2} $ to $ 10^8 $. All the values are log-scaled so it can be easily compared."
   ]
  },
  {
   "cell_type": "code",
   "execution_count": null,
   "metadata": {},
   "outputs": [],
   "source": [
    "for col in dis_cols:\n",
    "    val_count = df_vis[col].notnull().count()\n",
    "    labels = []\n",
    "    counts = []\n",
    "    for val in df_vis[col].unique():\n",
    "        labels.append(val)\n",
    "        #counts.append(df_vis[df_vis[col] == val][col].count() / val_count)\n",
    "        counts.append(df_vis[df_vis[col] == val][col].count())\n",
    "    fix, ax = plt.subplots(figsize=(7,7))\n",
    "    ax.pie(counts, labels=labels, autopct='%1.1f%%', pctdistance=0.75, radius=1, )\n",
    "    ax.set_title(col)\n",
    "    \n",
    "print(\"In fst_metration (metal abundance): \\n\\t0 = iron abundance, \\n\\t1 = general metal abundance\")"
   ]
  },
  {
   "cell_type": "markdown",
   "metadata": {},
   "source": [
    "> Perhaps it's not even necessary to emphasize that at the most of the exoplanets there is a iron abundance..."
   ]
  },
  {
   "cell_type": "markdown",
   "metadata": {},
   "source": [
    "### 2.2 Density of Random Variable\n",
    "> Since there is 16 random variables (${16\\choose2} = 120$), only a few of those that are interesting haven been chosen to display the graph."
   ]
  },
  {
   "cell_type": "code",
   "execution_count": null,
   "metadata": {
    "scrolled": false
   },
   "outputs": [],
   "source": [
    "def displayDensity(data, earth):\n",
    "    fig, ax = plt.subplots(figsize=(15,5))\n",
    "    ax.set_title(\"Density: {}\".format(data.name))\n",
    "    ax.hist(data, density=True, bins=50)\n",
    "    ax.axvline(earth, color=\"red\", label=\"Earth\", linewidth=3)\n",
    "    plt.legend()\n",
    "    plt.show()\n",
    "    \n",
    "int_dist = [\"fpl_rade\", \"dec\", \"fst_logg\", \"fst_age\"] # interesting columns\n",
    "    \n",
    "for col in int_dist:\n",
    "    displayDensity(df_vis[col], df_vis.loc[0, col])"
   ]
  },
  {
   "cell_type": "markdown",
   "metadata": {},
   "source": [
    "> `fpl_rade` (radius of the exoplanet) points to that there are two types of the planets -- the ones with radius pretty simillar to the Earth and the ones with radius around 12 EU (Earth Units).\n",
    "`dec` (declination of the planetary system) is pretty common around 40 degrees. This parameter is considered only for \"fun\" since it is not supposed to affect livability of the planet in any aspect.\n",
    "In the chart `fst_logg` there is visible that the Sun has greater gravity acceleration at the surface than the most of the other stars. The last chart showing `fst_age` (stellar age) confirmes that the Sun is pretty in the mean of all the stars."
   ]
  },
  {
   "cell_type": "markdown",
   "metadata": {},
   "source": [
    "### 2.3 Correlation of Variables"
   ]
  },
  {
   "cell_type": "code",
   "execution_count": null,
   "metadata": {},
   "outputs": [],
   "source": [
    "cor_matrix = df_vis.corr()\n",
    "plt.figure(figsize=(15,15))\n",
    "sns.heatmap(cor_matrix, annot=True, cmap=\"YlGnBu\", linewidths=.5)"
   ]
  },
  {
   "cell_type": "markdown",
   "metadata": {},
   "source": [
    "> The most of the variables are not correlated at all, but there are few pretty correlated:\n",
    "* `fst_logg` and `fst_lum` ($-0.72$) = with gravity acceleration luminosity decreases,\n",
    "* `fst_logg` and `fst_rad` ($-0.75$) = with gravity acceleration stellar radius decreases,\n",
    "* `fst_lum` and `fst_mass` ($0.52$) = with luminosity stellar mass increases.\n",
    "\n",
    "### 2.4 Joint Distribution of Highly Correlated Variables"
   ]
  },
  {
   "cell_type": "code",
   "execution_count": null,
   "metadata": {
    "scrolled": false
   },
   "outputs": [],
   "source": [
    "def displayJointDistribution(a, b):\n",
    "    fig, ax = plt.subplots(figsize=(15,5))\n",
    "    colors = [\"blue\"] * a.shape[0]\n",
    "    colors[0] = \"red\"\n",
    "    ax.axvline(a[0], color=\"red\", label=\"Earth\")\n",
    "    ax.axhline(b[0], color=\"red\")\n",
    "    ax.scatter(a, b, c=colors)\n",
    "    ax.set_title(\"{} vs. {}\".format(a.name, b.name))\n",
    "    ax.set_xlabel(a.name)\n",
    "    ax.set_ylabel(b.name)\n",
    "    plt.legend()\n",
    "    plt.show()\n",
    "    \n",
    "print(\"Gravity acceleration (fst_logg) at the stellar surface and star luminosity (fst_lum).\")\n",
    "displayJointDistribution(df_vis[\"fst_logg\"], df_vis[\"fst_lum\"])\n",
    "print(\"Gravity acceleration (fst_logg) at the stellar surface and the stellar radius (fst_rad).\")\n",
    "displayJointDistribution(df_vis[\"fst_logg\"], df_vis[\"fst_rad\"])\n",
    "print(\"Stellar luminosity (fst_lum) and the stellar mass (fst_mass).\")\n",
    "displayJointDistribution(df_vis[\"fst_lum\"], df_vis[\"fst_mass\"])"
   ]
  },
  {
   "cell_type": "markdown",
   "metadata": {},
   "source": [
    "> It's curious that stars with gravity acceleration at the surface $4.3^{10} \\text{cm}/\\text{s}^2$ have various luminosity  (from $-3.8^{10}\\text{L}_\\odot$ to $2.1^{10}\\text{L}_\\odot$)"
   ]
  },
  {
   "cell_type": "markdown",
   "metadata": {},
   "source": [
    "## 3. Clustering\n",
    "> Are the planets divided into some groups based on their parameters?"
   ]
  },
  {
   "cell_type": "markdown",
   "metadata": {},
   "source": [
    "### 3.1 Normalization\n",
    "> Some variables have greater deviation than others, therefore it is necessary to rescale all the values into range $\\left[0,1\\right]$"
   ]
  },
  {
   "cell_type": "code",
   "execution_count": null,
   "metadata": {},
   "outputs": [],
   "source": [
    "df_simil = df_vis.copy()\n",
    "x = df_simil.values #returns a numpy array\n",
    "min_max_scaler = preprocessing.MinMaxScaler()\n",
    "x_scaled = min_max_scaler.fit_transform(x)\n",
    "df_simil = pd.DataFrame(x_scaled, columns=df_simil.columns)\n",
    "df_simil.index.name = \"rowid\""
   ]
  },
  {
   "cell_type": "markdown",
   "metadata": {},
   "source": [
    "### 3.2 KMeans"
   ]
  },
  {
   "cell_type": "code",
   "execution_count": null,
   "metadata": {
    "scrolled": true
   },
   "outputs": [],
   "source": [
    "## finding the best number of clusters\n",
    "\n",
    "n = []\n",
    "score = []\n",
    "\n",
    "for k in range(1, 10):\n",
    "    kmeans = KMeans(n_clusters=k, random_state = 1)\n",
    "    kmeans.fit(df_simil)\n",
    "    n.append(k)\n",
    "    score.append(kmeans.inertia_)\n",
    "\n",
    "fig, ax = plt.subplots(figsize=(15,5))\n",
    "ax.plot(n, score)"
   ]
  },
  {
   "cell_type": "markdown",
   "metadata": {},
   "source": [
    "> There is an signicant elbow when number of clusters is set to 2, which means that it is a optimum. Even though it was expected to have few dozens of clusters..."
   ]
  },
  {
   "cell_type": "code",
   "execution_count": null,
   "metadata": {
    "scrolled": false
   },
   "outputs": [],
   "source": [
    "# kmeans with the optimal number of clusters\n",
    "optimum = 2\n",
    "kmeans = KMeans(n_clusters=optimum, random_state = 1)\n",
    "kmeans.fit(df_simil)\n",
    "\n",
    "# projecting into lower-dimensional space\n",
    "svd = TruncatedSVD(n_components=2)\n",
    "reduced = svd.fit_transform(df_simil)\n",
    "\n",
    "# coloring clusters\n",
    "colors = []\n",
    "for point in kmeans.labels_:\n",
    "    if(point == 0):\n",
    "        colors.append(\"green\")\n",
    "    if(point == 1):\n",
    "        colors.append(\"blue\")\n",
    "        \n",
    "# plotting\n",
    "fig, ax = plt.subplots(1, 2, figsize=(15,5))\n",
    "ax[0].scatter(reduced[:,0], reduced[:,1], c=colors)\n",
    "ax[0].axvline(reduced[0,0], c=\"red\", label=\"Earth\")\n",
    "ax[0].axhline(reduced[0,1], c=\"red\")\n",
    "ax[0].set_title(\"Clustered exoplanets\")\n",
    "\n",
    "# adding cluster to dataset\n",
    "df_simil[\"cluster\"] = kmeans.labels_\n",
    "\n",
    "# cluster ratio (pie-chart)\n",
    "cluster_count = []\n",
    "cluster_colors = []\n",
    "cluster_count.append(df_simil.loc[df_simil[\"cluster\"] == 0, \"cluster\"].count())\n",
    "cluster_colors.append(\"green\")\n",
    "cluster_count.append(df_simil.loc[df_simil[\"cluster\"] == 1, \"cluster\"].count())\n",
    "cluster_colors.append(\"blue\")\n",
    "\n",
    "ax[1].pie(cluster_count, autopct='%1.1f%%', pctdistance=1.2, colors=cluster_colors)\n",
    "ax[1].set_title(\"Cluster-ratio\")\n",
    "plt.show()\n",
    "\n",
    "# means in each cluster\n",
    "mean_a = df_simil[df_simil[\"cluster\"] == 0].mean()\n",
    "mean_b = df_simil[df_simil[\"cluster\"] == 1].mean()\n",
    "x = np.arange(mean_a.shape[0])\n",
    "fig, ax = plt.subplots(figsize=(15,7))\n",
    "ax.set_title(\"Normalized Means in Each Cluster\")\n",
    "ax.scatter(mean_a, x, color=\"green\")\n",
    "ax.scatter(mean_b, x, color=\"blue\")\n",
    "ax.set_yticks(x)\n",
    "ax.set_yticklabels(df_simil.columns)\n",
    "plt.show()"
   ]
  },
  {
   "cell_type": "markdown",
   "metadata": {},
   "source": [
    "> Earth is situated in the green cluster, where is located 78% of all the exoplanets. After plotting the means of each cluster, it was found out that the clusters differ in:\n",
    "* `fst_log` gravity acceleration at the surface of the star,\n",
    "* `dec` declination of the solar system,\n",
    "* `fpl_tranflag` planet transits the star and\n",
    "* `fpl_rade`radius of the planet."
   ]
  },
  {
   "cell_type": "markdown",
   "metadata": {},
   "source": [
    "## 3. Similarity Computation\n",
    "> Computing similarity between Earth and any other exoplanet. Similarity is computed using cosine similarity between planets' vectors."
   ]
  },
  {
   "cell_type": "markdown",
   "metadata": {},
   "source": [
    "### 3.1 Basic Cosine Similarity"
   ]
  },
  {
   "cell_type": "code",
   "execution_count": null,
   "metadata": {},
   "outputs": [],
   "source": [
    "# computing similarity\n",
    "df_without_cluster = df_simil.drop(labels=[\"cluster\"], axis=1)\n",
    "cosine_simil = cosine_similarity(df_without_cluster)\n",
    "df_cos = df_vis.copy()\n",
    "df_cos[\"cos_simil\"] = cosine_simil[:,0]\n",
    "\n",
    "# selecting top-n exoplanets\n",
    "top = df_cos.sort_values(\"cos_simil\", ascending=False).head(10)\n",
    "print(\"Top 10 exoplanets ranked by cosine similarity\")\n",
    "display(top)"
   ]
  },
  {
   "cell_type": "markdown",
   "metadata": {},
   "source": [
    "### 3.2 Weighted Ranking\n",
    "> Some variables are more important than the others. Therefore an vector w of wights has been created..."
   ]
  },
  {
   "cell_type": "code",
   "execution_count": null,
   "metadata": {},
   "outputs": [],
   "source": [
    "w = [5,  # fpl_orbper\n",
    "     3,  # fpl_smax\n",
    "     5,  # fpl_bmasse\n",
    "     5,  # fpl_rade\n",
    "     7,  # fpl_dens\n",
    "     1,  # fpl_tranflag\n",
    "     5,  # fpl_cbflag\n",
    "     8,  # fpl_snum\n",
    "     3,  # dec\n",
    "     10, # fst_teff\n",
    "     4,  # fst_logg\n",
    "     4,  # fst_lum\n",
    "     6,  # fst_mass\n",
    "     6,  # fst_rad\n",
    "     3,  # fst_met\n",
    "     1,  # fst_metratio\n",
    "     8   # fst_age\n",
    "    ]\n",
    "\n",
    "weighted_distances = []\n",
    "earth = df_without_cluster.iloc[0,:]\n",
    "\n",
    "for row in df_without_cluster.iterrows():\n",
    "    weighted_distances.append(1 - distance.cosine(earth, row[1], np.true_divide(w,10)))\n",
    "\n",
    "df_cos[\"weighted_simil\"] = weighted_distances"
   ]
  },
  {
   "cell_type": "markdown",
   "metadata": {},
   "source": [
    "### 3.3 Saving Results"
   ]
  },
  {
   "cell_type": "code",
   "execution_count": null,
   "metadata": {},
   "outputs": [],
   "source": [
    "# adding cluster to the result\n",
    "df_cos[\"cluster\"] = df_simil[\"cluster\"]\n",
    "\n",
    "# display result\n",
    "display(df_cos.head())\n",
    "\n",
    "# saving the result\n",
    "df_cos.to_csv(\"output.csv\")"
   ]
  }
 ],
 "metadata": {
  "kernelspec": {
   "display_name": "Python 3",
   "language": "python",
   "name": "python3"
  },
  "language_info": {
   "codemirror_mode": {
    "name": "ipython",
    "version": 3
   },
   "file_extension": ".py",
   "mimetype": "text/x-python",
   "name": "python",
   "nbconvert_exporter": "python",
   "pygments_lexer": "ipython3",
   "version": "3.7.4"
  }
 },
 "nbformat": 4,
 "nbformat_minor": 2
}
