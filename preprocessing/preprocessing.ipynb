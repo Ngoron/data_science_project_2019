{
 "cells": [
  {
   "cell_type": "markdown",
   "metadata": {},
   "source": [
    "# Exoplanet Ranking\n",
    "Data discovering, preprocessing, computing simillarity and clustering.\n",
    "\n",
    "**!! What is actually an exoplanet?**"
   ]
  },
  {
   "cell_type": "markdown",
   "metadata": {},
   "source": [
    "## 1. Data Discovering\n",
    "> To detect the important data it's necessary to go through the dataset and check what the columns stand for, which are useful for further processing, what the columns stand for. In this stage we will also fill information about the Earth (planet with rowid 0), since actual data is \"random\".\n",
    "\n",
    "> Some data has been already removed in the very first processing (e.g. links, duplicated values, irrelevant data). Original dataset: `data/data_original.csv`"
   ]
  },
  {
   "cell_type": "code",
   "execution_count": 12,
   "metadata": {},
   "outputs": [],
   "source": [
    "# imports\n",
    "#%matplotlib inline\n",
    "import pandas as pd\n",
    "import numpy as np\n",
    "import matplotlib.pyplot as plt\n",
    "plt.style.use('seaborn-white')"
   ]
  },
  {
   "cell_type": "code",
   "execution_count": 13,
   "metadata": {
    "scrolled": true
   },
   "outputs": [
    {
     "name": "stdout",
     "output_type": "stream",
     "text": [
      "Number of:\n",
      "\trows = 4056\n",
      "\tcolumns = 22\n"
     ]
    },
    {
     "data": {
      "text/html": [
       "<div>\n",
       "<style scoped>\n",
       "    .dataframe tbody tr th:only-of-type {\n",
       "        vertical-align: middle;\n",
       "    }\n",
       "\n",
       "    .dataframe tbody tr th {\n",
       "        vertical-align: top;\n",
       "    }\n",
       "\n",
       "    .dataframe thead th {\n",
       "        text-align: right;\n",
       "    }\n",
       "</style>\n",
       "<table border=\"1\" class=\"dataframe\">\n",
       "  <thead>\n",
       "    <tr style=\"text-align: right;\">\n",
       "      <th></th>\n",
       "      <th>fpl_orbper</th>\n",
       "      <th>fpl_smax</th>\n",
       "      <th>fpl_eccen</th>\n",
       "      <th>fpl_bmasse</th>\n",
       "      <th>fpl_rade</th>\n",
       "      <th>fpl_dens</th>\n",
       "      <th>fpl_tranflag</th>\n",
       "      <th>fpl_cbflag</th>\n",
       "      <th>fpl_snum</th>\n",
       "      <th>dec</th>\n",
       "      <th>...</th>\n",
       "      <th>fst_spt</th>\n",
       "      <th>fst_teff</th>\n",
       "      <th>fst_logg</th>\n",
       "      <th>fst_lum</th>\n",
       "      <th>fst_mass</th>\n",
       "      <th>fst_rad</th>\n",
       "      <th>fst_met</th>\n",
       "      <th>fst_metratio</th>\n",
       "      <th>fst_age</th>\n",
       "      <th>simil</th>\n",
       "    </tr>\n",
       "    <tr>\n",
       "      <th>rowid</th>\n",
       "      <th></th>\n",
       "      <th></th>\n",
       "      <th></th>\n",
       "      <th></th>\n",
       "      <th></th>\n",
       "      <th></th>\n",
       "      <th></th>\n",
       "      <th></th>\n",
       "      <th></th>\n",
       "      <th></th>\n",
       "      <th></th>\n",
       "      <th></th>\n",
       "      <th></th>\n",
       "      <th></th>\n",
       "      <th></th>\n",
       "      <th></th>\n",
       "      <th></th>\n",
       "      <th></th>\n",
       "      <th></th>\n",
       "      <th></th>\n",
       "      <th></th>\n",
       "    </tr>\n",
       "  </thead>\n",
       "  <tbody>\n",
       "    <tr>\n",
       "      <td>0</td>\n",
       "      <td>1000.00000</td>\n",
       "      <td>3.00</td>\n",
       "      <td>0.300</td>\n",
       "      <td>1000.0000</td>\n",
       "      <td>12.4</td>\n",
       "      <td>10.00</td>\n",
       "      <td>0</td>\n",
       "      <td>0</td>\n",
       "      <td>1</td>\n",
       "      <td>30.000000</td>\n",
       "      <td>...</td>\n",
       "      <td>K0 III</td>\n",
       "      <td>4742.0</td>\n",
       "      <td>3.00</td>\n",
       "      <td>1.000</td>\n",
       "      <td>1.50</td>\n",
       "      <td>7.00</td>\n",
       "      <td>-0.01</td>\n",
       "      <td>[Fe/H]</td>\n",
       "      <td>0.400000</td>\n",
       "      <td>84.0188</td>\n",
       "    </tr>\n",
       "    <tr>\n",
       "      <td>1</td>\n",
       "      <td>326.03000</td>\n",
       "      <td>1.29</td>\n",
       "      <td>0.231</td>\n",
       "      <td>6165.6000</td>\n",
       "      <td>12.1</td>\n",
       "      <td>19.10</td>\n",
       "      <td>0</td>\n",
       "      <td>0</td>\n",
       "      <td>1</td>\n",
       "      <td>17.792868</td>\n",
       "      <td>...</td>\n",
       "      <td>K0 III</td>\n",
       "      <td>4742.0</td>\n",
       "      <td>2.31</td>\n",
       "      <td>2.243</td>\n",
       "      <td>2.70</td>\n",
       "      <td>19.00</td>\n",
       "      <td>-0.35</td>\n",
       "      <td>[Fe/H]</td>\n",
       "      <td>4.236718</td>\n",
       "      <td>39.4383</td>\n",
       "    </tr>\n",
       "    <tr>\n",
       "      <td>2</td>\n",
       "      <td>516.21997</td>\n",
       "      <td>1.53</td>\n",
       "      <td>0.080</td>\n",
       "      <td>4684.8142</td>\n",
       "      <td>12.3</td>\n",
       "      <td>13.80</td>\n",
       "      <td>0</td>\n",
       "      <td>0</td>\n",
       "      <td>1</td>\n",
       "      <td>71.823898</td>\n",
       "      <td>...</td>\n",
       "      <td>K4 III</td>\n",
       "      <td>4213.0</td>\n",
       "      <td>1.93</td>\n",
       "      <td>2.430</td>\n",
       "      <td>2.78</td>\n",
       "      <td>29.79</td>\n",
       "      <td>-0.02</td>\n",
       "      <td>[Fe/H]</td>\n",
       "      <td>1.560000</td>\n",
       "      <td>78.3099</td>\n",
       "    </tr>\n",
       "    <tr>\n",
       "      <td>3</td>\n",
       "      <td>185.84000</td>\n",
       "      <td>0.83</td>\n",
       "      <td>0.000</td>\n",
       "      <td>1525.5000</td>\n",
       "      <td>12.9</td>\n",
       "      <td>3.90</td>\n",
       "      <td>0</td>\n",
       "      <td>0</td>\n",
       "      <td>1</td>\n",
       "      <td>39.236198</td>\n",
       "      <td>...</td>\n",
       "      <td>G8 III</td>\n",
       "      <td>4813.0</td>\n",
       "      <td>2.63</td>\n",
       "      <td>1.763</td>\n",
       "      <td>2.20</td>\n",
       "      <td>11.00</td>\n",
       "      <td>-0.24</td>\n",
       "      <td>[Fe/H]</td>\n",
       "      <td>4.500000</td>\n",
       "      <td>79.8440</td>\n",
       "    </tr>\n",
       "    <tr>\n",
       "      <td>4</td>\n",
       "      <td>1773.40002</td>\n",
       "      <td>2.93</td>\n",
       "      <td>0.370</td>\n",
       "      <td>1481.0878</td>\n",
       "      <td>12.9</td>\n",
       "      <td>3.79</td>\n",
       "      <td>0</td>\n",
       "      <td>0</td>\n",
       "      <td>1</td>\n",
       "      <td>43.817646</td>\n",
       "      <td>...</td>\n",
       "      <td>K0 V</td>\n",
       "      <td>5338.0</td>\n",
       "      <td>4.45</td>\n",
       "      <td>-0.151</td>\n",
       "      <td>0.90</td>\n",
       "      <td>0.93</td>\n",
       "      <td>0.41</td>\n",
       "      <td>[Fe/H]</td>\n",
       "      <td>5.240000</td>\n",
       "      <td>91.1647</td>\n",
       "    </tr>\n",
       "  </tbody>\n",
       "</table>\n",
       "<p>5 rows × 22 columns</p>\n",
       "</div>"
      ],
      "text/plain": [
       "       fpl_orbper  fpl_smax  fpl_eccen  fpl_bmasse  fpl_rade  fpl_dens  \\\n",
       "rowid                                                                    \n",
       "0      1000.00000      3.00      0.300   1000.0000      12.4     10.00   \n",
       "1       326.03000      1.29      0.231   6165.6000      12.1     19.10   \n",
       "2       516.21997      1.53      0.080   4684.8142      12.3     13.80   \n",
       "3       185.84000      0.83      0.000   1525.5000      12.9      3.90   \n",
       "4      1773.40002      2.93      0.370   1481.0878      12.9      3.79   \n",
       "\n",
       "       fpl_tranflag  fpl_cbflag  fpl_snum        dec  ...  fst_spt  fst_teff  \\\n",
       "rowid                                                 ...                      \n",
       "0                 0           0         1  30.000000  ...   K0 III    4742.0   \n",
       "1                 0           0         1  17.792868  ...   K0 III    4742.0   \n",
       "2                 0           0         1  71.823898  ...   K4 III    4213.0   \n",
       "3                 0           0         1  39.236198  ...   G8 III    4813.0   \n",
       "4                 0           0         1  43.817646  ...     K0 V    5338.0   \n",
       "\n",
       "      fst_logg  fst_lum  fst_mass  fst_rad  fst_met  fst_metratio   fst_age  \\\n",
       "rowid                                                                         \n",
       "0         3.00    1.000      1.50     7.00    -0.01        [Fe/H]  0.400000   \n",
       "1         2.31    2.243      2.70    19.00    -0.35        [Fe/H]  4.236718   \n",
       "2         1.93    2.430      2.78    29.79    -0.02        [Fe/H]  1.560000   \n",
       "3         2.63    1.763      2.20    11.00    -0.24        [Fe/H]  4.500000   \n",
       "4         4.45   -0.151      0.90     0.93     0.41        [Fe/H]  5.240000   \n",
       "\n",
       "         simil  \n",
       "rowid           \n",
       "0      84.0188  \n",
       "1      39.4383  \n",
       "2      78.3099  \n",
       "3      79.8440  \n",
       "4      91.1647  \n",
       "\n",
       "[5 rows x 22 columns]"
      ]
     },
     "metadata": {},
     "output_type": "display_data"
    },
    {
     "name": "stdout",
     "output_type": "stream",
     "text": [
      "<class 'pandas.core.frame.DataFrame'>\n",
      "Int64Index: 4056 entries, 0 to 4055\n",
      "Data columns (total 22 columns):\n",
      "fpl_orbper      4056 non-null float64\n",
      "fpl_smax        4056 non-null float64\n",
      "fpl_eccen       1553 non-null float64\n",
      "fpl_bmasse      4056 non-null float64\n",
      "fpl_rade        4056 non-null float64\n",
      "fpl_dens        4056 non-null float64\n",
      "fpl_tranflag    4056 non-null int64\n",
      "fpl_cbflag      4056 non-null int64\n",
      "fpl_snum        4056 non-null int64\n",
      "dec             4056 non-null float64\n",
      "fst_optmag      4056 non-null float64\n",
      "fst_nirmag      4056 non-null float64\n",
      "fst_spt         1366 non-null object\n",
      "fst_teff        4056 non-null float64\n",
      "fst_logg        4056 non-null float64\n",
      "fst_lum         4056 non-null float64\n",
      "fst_mass        4056 non-null float64\n",
      "fst_rad         4056 non-null float64\n",
      "fst_met         4056 non-null float64\n",
      "fst_metratio    4056 non-null object\n",
      "fst_age         4056 non-null float64\n",
      "simil           4056 non-null float64\n",
      "dtypes: float64(17), int64(3), object(2)\n",
      "memory usage: 728.8+ KB\n"
     ]
    },
    {
     "data": {
      "text/plain": [
       "None"
      ]
     },
     "metadata": {},
     "output_type": "display_data"
    }
   ],
   "source": [
    "# loading data\n",
    "df_origin = pd.read_csv(\"../data/data_preprocess.csv\", index_col=\"rowid\")\n",
    "print(\"Number of:\\n\\trows = {}\\n\\tcolumns = {}\".format(df_origin.shape[0], df_origin.shape[1]))\n",
    "display(df_origin.head())\n",
    "display(df_origin.info())"
   ]
  },
  {
   "cell_type": "markdown",
   "metadata": {},
   "source": [
    "### 1.1 Missing values"
   ]
  },
  {
   "cell_type": "code",
   "execution_count": 14,
   "metadata": {
    "scrolled": true
   },
   "outputs": [
    {
     "data": {
      "text/plain": [
       "fpl_orbper      1.000000\n",
       "fpl_smax        1.000000\n",
       "fpl_eccen       0.382890\n",
       "fpl_bmasse      1.000000\n",
       "fpl_rade        1.000000\n",
       "fpl_dens        1.000000\n",
       "fpl_tranflag    1.000000\n",
       "fpl_cbflag      1.000000\n",
       "fpl_snum        1.000000\n",
       "dec             1.000000\n",
       "fst_optmag      1.000000\n",
       "fst_nirmag      1.000000\n",
       "fst_spt         0.336785\n",
       "fst_teff        1.000000\n",
       "fst_logg        1.000000\n",
       "fst_lum         1.000000\n",
       "fst_mass        1.000000\n",
       "fst_rad         1.000000\n",
       "fst_met         1.000000\n",
       "fst_metratio    1.000000\n",
       "fst_age         1.000000\n",
       "simil           1.000000\n",
       "dtype: float64"
      ]
     },
     "metadata": {},
     "output_type": "display_data"
    }
   ],
   "source": [
    "# number of missing values in each column\n",
    "display(df_origin.notnull().sum() / (df_origin.notnull().sum() + df_origin.isnull().sum()))"
   ]
  },
  {
   "cell_type": "markdown",
   "metadata": {},
   "source": [
    "> The most of the values are fully filled, but there are two columns with missing values: column `fpl_eccen` and column `fst_spt`. `fpl_eccen` holds  the eccentricity of planet's orbit (Amount by which the orbit of the planet deviates from a perfect circle). `fst_spt` holds spectral type of the star that the planet orbits.\n",
    "> Since there is only 33 % -- 38 %  valid values, it is better to remove these columns then trying to compute the value using for example k-nn."
   ]
  },
  {
   "cell_type": "code",
   "execution_count": 15,
   "metadata": {
    "scrolled": true
   },
   "outputs": [
    {
     "name": "stdout",
     "output_type": "stream",
     "text": [
      "Index(['fpl_orbper', 'fpl_smax', 'fpl_bmasse', 'fpl_rade', 'fpl_dens',\n",
      "       'fpl_tranflag', 'fpl_cbflag', 'fpl_snum', 'dec', 'fst_optmag',\n",
      "       'fst_nirmag', 'fst_teff', 'fst_logg', 'fst_lum', 'fst_mass', 'fst_rad',\n",
      "       'fst_met', 'fst_metratio', 'fst_age', 'simil'],\n",
      "      dtype='object')\n"
     ]
    }
   ],
   "source": [
    "df_modified = df_origin.drop(labels=[\"fpl_eccen\", \"fst_spt\"], axis=1)\n",
    "print(df_modified.columns)"
   ]
  },
  {
   "cell_type": "markdown",
   "metadata": {},
   "source": [
    "### 1.2 Non-numeric values\n",
    "> There is a column `fst_metratio` containing information about which element is in abundance on the planet. The column contains data type `object`.\n"
   ]
  },
  {
   "cell_type": "code",
   "execution_count": 16,
   "metadata": {},
   "outputs": [
    {
     "data": {
      "text/plain": [
       "array(['[Fe/H]', '[M/H]', '[m/H]'], dtype=object)"
      ]
     },
     "execution_count": 16,
     "metadata": {},
     "output_type": "execute_result"
    }
   ],
   "source": [
    "df_modified[\"fst_metratio\"].unique()"
   ]
  },
  {
   "cell_type": "markdown",
   "metadata": {},
   "source": [
    "> `Fe/H` denotes iron abundance and `M/H` or `m/H` denotes general metal content."
   ]
  },
  {
   "cell_type": "code",
   "execution_count": 17,
   "metadata": {},
   "outputs": [
    {
     "data": {
      "text/plain": [
       "array([0, 1])"
      ]
     },
     "execution_count": 17,
     "metadata": {},
     "output_type": "execute_result"
    }
   ],
   "source": [
    "# replacing all occurancies of \"m/H\" with \"M/H\" and then replacing with \n",
    "\n",
    "df_modified.loc[df_modified[\"fst_metratio\"] == \"[m/H]\", \"fst_metratio\"] = \"[M/H]\"\n",
    "df_modified[\"fst_metratio\"] = df_modified[\"fst_metratio\"].astype(\"category\")\n",
    "cat_columns = df_modified.select_dtypes(\"category\").columns\n",
    "cont_cols = list(df_modified.select_dtypes(exclude=\"category\").columns) # columns with continuous values\n",
    "dis_cols = list(cat_columns) # cols with discrete values\n",
    "df_modified[cat_columns] = df_modified[cat_columns].apply(lambda x: x.cat.codes)\n",
    "\n",
    "df_modified[\"fst_metratio\"].unique()"
   ]
  },
  {
   "cell_type": "markdown",
   "metadata": {},
   "source": [
    "## 1.3 Earth Filling-in"
   ]
  },
  {
   "cell_type": "code",
   "execution_count": 18,
   "metadata": {},
   "outputs": [],
   "source": [
    "def dropColumn(elem, lists):\n",
    "    for l in lists:\n",
    "        if(elem in l):\n",
    "            l.remove(elem)"
   ]
  },
  {
   "cell_type": "code",
   "execution_count": 19,
   "metadata": {},
   "outputs": [
    {
     "data": {
      "text/html": [
       "<div>\n",
       "<style scoped>\n",
       "    .dataframe tbody tr th:only-of-type {\n",
       "        vertical-align: middle;\n",
       "    }\n",
       "\n",
       "    .dataframe tbody tr th {\n",
       "        vertical-align: top;\n",
       "    }\n",
       "\n",
       "    .dataframe thead th {\n",
       "        text-align: right;\n",
       "    }\n",
       "</style>\n",
       "<table border=\"1\" class=\"dataframe\">\n",
       "  <thead>\n",
       "    <tr style=\"text-align: right;\">\n",
       "      <th></th>\n",
       "      <th>fpl_orbper</th>\n",
       "      <th>fpl_smax</th>\n",
       "      <th>fpl_bmasse</th>\n",
       "      <th>fpl_rade</th>\n",
       "      <th>fpl_dens</th>\n",
       "      <th>fpl_tranflag</th>\n",
       "      <th>fpl_cbflag</th>\n",
       "      <th>fpl_snum</th>\n",
       "      <th>dec</th>\n",
       "      <th>fst_optmag</th>\n",
       "      <th>fst_nirmag</th>\n",
       "      <th>fst_teff</th>\n",
       "      <th>fst_logg</th>\n",
       "      <th>fst_lum</th>\n",
       "      <th>fst_mass</th>\n",
       "      <th>fst_rad</th>\n",
       "      <th>fst_met</th>\n",
       "      <th>fst_metratio</th>\n",
       "      <th>fst_age</th>\n",
       "      <th>simil</th>\n",
       "    </tr>\n",
       "  </thead>\n",
       "  <tbody>\n",
       "    <tr>\n",
       "      <td>count</td>\n",
       "      <td>4.056000e+03</td>\n",
       "      <td>4056.000000</td>\n",
       "      <td>4056.000000</td>\n",
       "      <td>4056.000000</td>\n",
       "      <td>4056.000000</td>\n",
       "      <td>4056.000000</td>\n",
       "      <td>4056.000000</td>\n",
       "      <td>4056.000000</td>\n",
       "      <td>4056.000000</td>\n",
       "      <td>4056.000000</td>\n",
       "      <td>4056.000000</td>\n",
       "      <td>4056.000000</td>\n",
       "      <td>4056.000000</td>\n",
       "      <td>4056.000000</td>\n",
       "      <td>4056.000000</td>\n",
       "      <td>4056.000000</td>\n",
       "      <td>4056.000000</td>\n",
       "      <td>4056.000000</td>\n",
       "      <td>4056.000000</td>\n",
       "      <td>4056.000000</td>\n",
       "    </tr>\n",
       "    <tr>\n",
       "      <td>mean</td>\n",
       "      <td>2.319214e+03</td>\n",
       "      <td>6.175326</td>\n",
       "      <td>482.639263</td>\n",
       "      <td>5.640240</td>\n",
       "      <td>4.382642</td>\n",
       "      <td>0.774655</td>\n",
       "      <td>0.007396</td>\n",
       "      <td>1.039448</td>\n",
       "      <td>23.462613</td>\n",
       "      <td>12.692710</td>\n",
       "      <td>10.749454</td>\n",
       "      <td>5488.028300</td>\n",
       "      <td>4.354505</td>\n",
       "      <td>-0.074887</td>\n",
       "      <td>0.995157</td>\n",
       "      <td>1.542292</td>\n",
       "      <td>0.011103</td>\n",
       "      <td>0.020710</td>\n",
       "      <td>4.235773</td>\n",
       "      <td>50.071795</td>\n",
       "    </tr>\n",
       "    <tr>\n",
       "      <td>std</td>\n",
       "      <td>1.149917e+05</td>\n",
       "      <td>61.722017</td>\n",
       "      <td>4310.965809</td>\n",
       "      <td>5.411817</td>\n",
       "      <td>23.520291</td>\n",
       "      <td>0.417861</td>\n",
       "      <td>0.085695</td>\n",
       "      <td>0.221912</td>\n",
       "      <td>32.475112</td>\n",
       "      <td>2.917488</td>\n",
       "      <td>2.941231</td>\n",
       "      <td>1728.947747</td>\n",
       "      <td>0.409865</td>\n",
       "      <td>0.702312</td>\n",
       "      <td>0.593272</td>\n",
       "      <td>3.604334</td>\n",
       "      <td>0.163034</td>\n",
       "      <td>0.142429</td>\n",
       "      <td>2.016376</td>\n",
       "      <td>28.881371</td>\n",
       "    </tr>\n",
       "    <tr>\n",
       "      <td>min</td>\n",
       "      <td>9.070629e-02</td>\n",
       "      <td>0.004400</td>\n",
       "      <td>0.020000</td>\n",
       "      <td>0.336000</td>\n",
       "      <td>0.030000</td>\n",
       "      <td>0.000000</td>\n",
       "      <td>0.000000</td>\n",
       "      <td>1.000000</td>\n",
       "      <td>-84.231613</td>\n",
       "      <td>0.850000</td>\n",
       "      <td>-3.044000</td>\n",
       "      <td>575.000000</td>\n",
       "      <td>1.200000</td>\n",
       "      <td>-6.090000</td>\n",
       "      <td>0.010000</td>\n",
       "      <td>0.010000</td>\n",
       "      <td>-0.890000</td>\n",
       "      <td>0.000000</td>\n",
       "      <td>0.001000</td>\n",
       "      <td>0.004688</td>\n",
       "    </tr>\n",
       "    <tr>\n",
       "      <td>25%</td>\n",
       "      <td>4.610251e+00</td>\n",
       "      <td>0.080000</td>\n",
       "      <td>3.780000</td>\n",
       "      <td>1.729250</td>\n",
       "      <td>1.460000</td>\n",
       "      <td>1.000000</td>\n",
       "      <td>0.000000</td>\n",
       "      <td>1.000000</td>\n",
       "      <td>0.968397</td>\n",
       "      <td>11.579500</td>\n",
       "      <td>9.558250</td>\n",
       "      <td>5027.000000</td>\n",
       "      <td>4.300000</td>\n",
       "      <td>-0.412000</td>\n",
       "      <td>0.820000</td>\n",
       "      <td>0.800000</td>\n",
       "      <td>-0.060000</td>\n",
       "      <td>0.000000</td>\n",
       "      <td>3.200000</td>\n",
       "      <td>24.762150</td>\n",
       "    </tr>\n",
       "    <tr>\n",
       "      <td>50%</td>\n",
       "      <td>1.261125e+01</td>\n",
       "      <td>0.956900</td>\n",
       "      <td>8.200000</td>\n",
       "      <td>2.690000</td>\n",
       "      <td>2.680000</td>\n",
       "      <td>1.000000</td>\n",
       "      <td>0.000000</td>\n",
       "      <td>1.000000</td>\n",
       "      <td>40.919329</td>\n",
       "      <td>13.545500</td>\n",
       "      <td>11.722500</td>\n",
       "      <td>5570.000000</td>\n",
       "      <td>4.430000</td>\n",
       "      <td>-0.072000</td>\n",
       "      <td>0.960000</td>\n",
       "      <td>0.990000</td>\n",
       "      <td>0.011108</td>\n",
       "      <td>0.000000</td>\n",
       "      <td>4.236718</td>\n",
       "      <td>50.807200</td>\n",
       "    </tr>\n",
       "    <tr>\n",
       "      <td>75%</td>\n",
       "      <td>5.079753e+01</td>\n",
       "      <td>6.176109</td>\n",
       "      <td>177.984800</td>\n",
       "      <td>11.785750</td>\n",
       "      <td>4.562500</td>\n",
       "      <td>1.000000</td>\n",
       "      <td>0.000000</td>\n",
       "      <td>1.000000</td>\n",
       "      <td>45.866345</td>\n",
       "      <td>14.874000</td>\n",
       "      <td>12.931250</td>\n",
       "      <td>5911.000000</td>\n",
       "      <td>4.550000</td>\n",
       "      <td>0.316000</td>\n",
       "      <td>1.110000</td>\n",
       "      <td>1.300000</td>\n",
       "      <td>0.090000</td>\n",
       "      <td>0.000000</td>\n",
       "      <td>4.680000</td>\n",
       "      <td>74.973200</td>\n",
       "    </tr>\n",
       "    <tr>\n",
       "      <td>max</td>\n",
       "      <td>7.300000e+06</td>\n",
       "      <td>2500.000000</td>\n",
       "      <td>239000.000000</td>\n",
       "      <td>77.342000</td>\n",
       "      <td>1290.000000</td>\n",
       "      <td>1.000000</td>\n",
       "      <td>1.000000</td>\n",
       "      <td>4.000000</td>\n",
       "      <td>85.736153</td>\n",
       "      <td>20.480000</td>\n",
       "      <td>16.612000</td>\n",
       "      <td>57000.000000</td>\n",
       "      <td>5.520000</td>\n",
       "      <td>3.540000</td>\n",
       "      <td>23.560000</td>\n",
       "      <td>71.230000</td>\n",
       "      <td>0.690000</td>\n",
       "      <td>1.000000</td>\n",
       "      <td>14.900000</td>\n",
       "      <td>99.999400</td>\n",
       "    </tr>\n",
       "  </tbody>\n",
       "</table>\n",
       "</div>"
      ],
      "text/plain": [
       "         fpl_orbper     fpl_smax     fpl_bmasse     fpl_rade     fpl_dens  \\\n",
       "count  4.056000e+03  4056.000000    4056.000000  4056.000000  4056.000000   \n",
       "mean   2.319214e+03     6.175326     482.639263     5.640240     4.382642   \n",
       "std    1.149917e+05    61.722017    4310.965809     5.411817    23.520291   \n",
       "min    9.070629e-02     0.004400       0.020000     0.336000     0.030000   \n",
       "25%    4.610251e+00     0.080000       3.780000     1.729250     1.460000   \n",
       "50%    1.261125e+01     0.956900       8.200000     2.690000     2.680000   \n",
       "75%    5.079753e+01     6.176109     177.984800    11.785750     4.562500   \n",
       "max    7.300000e+06  2500.000000  239000.000000    77.342000  1290.000000   \n",
       "\n",
       "       fpl_tranflag   fpl_cbflag     fpl_snum          dec   fst_optmag  \\\n",
       "count   4056.000000  4056.000000  4056.000000  4056.000000  4056.000000   \n",
       "mean       0.774655     0.007396     1.039448    23.462613    12.692710   \n",
       "std        0.417861     0.085695     0.221912    32.475112     2.917488   \n",
       "min        0.000000     0.000000     1.000000   -84.231613     0.850000   \n",
       "25%        1.000000     0.000000     1.000000     0.968397    11.579500   \n",
       "50%        1.000000     0.000000     1.000000    40.919329    13.545500   \n",
       "75%        1.000000     0.000000     1.000000    45.866345    14.874000   \n",
       "max        1.000000     1.000000     4.000000    85.736153    20.480000   \n",
       "\n",
       "        fst_nirmag      fst_teff     fst_logg      fst_lum     fst_mass  \\\n",
       "count  4056.000000   4056.000000  4056.000000  4056.000000  4056.000000   \n",
       "mean     10.749454   5488.028300     4.354505    -0.074887     0.995157   \n",
       "std       2.941231   1728.947747     0.409865     0.702312     0.593272   \n",
       "min      -3.044000    575.000000     1.200000    -6.090000     0.010000   \n",
       "25%       9.558250   5027.000000     4.300000    -0.412000     0.820000   \n",
       "50%      11.722500   5570.000000     4.430000    -0.072000     0.960000   \n",
       "75%      12.931250   5911.000000     4.550000     0.316000     1.110000   \n",
       "max      16.612000  57000.000000     5.520000     3.540000    23.560000   \n",
       "\n",
       "           fst_rad      fst_met  fst_metratio      fst_age        simil  \n",
       "count  4056.000000  4056.000000   4056.000000  4056.000000  4056.000000  \n",
       "mean      1.542292     0.011103      0.020710     4.235773    50.071795  \n",
       "std       3.604334     0.163034      0.142429     2.016376    28.881371  \n",
       "min       0.010000    -0.890000      0.000000     0.001000     0.004688  \n",
       "25%       0.800000    -0.060000      0.000000     3.200000    24.762150  \n",
       "50%       0.990000     0.011108      0.000000     4.236718    50.807200  \n",
       "75%       1.300000     0.090000      0.000000     4.680000    74.973200  \n",
       "max      71.230000     0.690000      1.000000    14.900000    99.999400  "
      ]
     },
     "metadata": {},
     "output_type": "display_data"
    },
    {
     "data": {
      "text/html": [
       "<div>\n",
       "<style scoped>\n",
       "    .dataframe tbody tr th:only-of-type {\n",
       "        vertical-align: middle;\n",
       "    }\n",
       "\n",
       "    .dataframe tbody tr th {\n",
       "        vertical-align: top;\n",
       "    }\n",
       "\n",
       "    .dataframe thead th {\n",
       "        text-align: right;\n",
       "    }\n",
       "</style>\n",
       "<table border=\"1\" class=\"dataframe\">\n",
       "  <thead>\n",
       "    <tr style=\"text-align: right;\">\n",
       "      <th></th>\n",
       "      <th>fpl_orbper</th>\n",
       "      <th>fpl_smax</th>\n",
       "      <th>fpl_bmasse</th>\n",
       "      <th>fpl_rade</th>\n",
       "      <th>fpl_dens</th>\n",
       "      <th>fpl_tranflag</th>\n",
       "      <th>fpl_cbflag</th>\n",
       "      <th>fpl_snum</th>\n",
       "      <th>dec</th>\n",
       "      <th>fst_teff</th>\n",
       "      <th>fst_logg</th>\n",
       "      <th>fst_lum</th>\n",
       "      <th>fst_mass</th>\n",
       "      <th>fst_rad</th>\n",
       "      <th>fst_met</th>\n",
       "      <th>fst_metratio</th>\n",
       "      <th>fst_age</th>\n",
       "    </tr>\n",
       "    <tr>\n",
       "      <th>rowid</th>\n",
       "      <th></th>\n",
       "      <th></th>\n",
       "      <th></th>\n",
       "      <th></th>\n",
       "      <th></th>\n",
       "      <th></th>\n",
       "      <th></th>\n",
       "      <th></th>\n",
       "      <th></th>\n",
       "      <th></th>\n",
       "      <th></th>\n",
       "      <th></th>\n",
       "      <th></th>\n",
       "      <th></th>\n",
       "      <th></th>\n",
       "      <th></th>\n",
       "      <th></th>\n",
       "    </tr>\n",
       "  </thead>\n",
       "  <tbody>\n",
       "    <tr>\n",
       "      <td>0</td>\n",
       "      <td>365.256363</td>\n",
       "      <td>1.000001</td>\n",
       "      <td>1.0000</td>\n",
       "      <td>1.0</td>\n",
       "      <td>5.51</td>\n",
       "      <td>1</td>\n",
       "      <td>0</td>\n",
       "      <td>1</td>\n",
       "      <td>23.400000</td>\n",
       "      <td>252.0</td>\n",
       "      <td>5.437751</td>\n",
       "      <td>0.000</td>\n",
       "      <td>1.00</td>\n",
       "      <td>1.00</td>\n",
       "      <td>0.012</td>\n",
       "      <td>0</td>\n",
       "      <td>4.603000</td>\n",
       "    </tr>\n",
       "    <tr>\n",
       "      <td>1</td>\n",
       "      <td>326.030000</td>\n",
       "      <td>1.290000</td>\n",
       "      <td>6165.6000</td>\n",
       "      <td>12.1</td>\n",
       "      <td>19.10</td>\n",
       "      <td>0</td>\n",
       "      <td>0</td>\n",
       "      <td>1</td>\n",
       "      <td>17.792868</td>\n",
       "      <td>4742.0</td>\n",
       "      <td>2.310000</td>\n",
       "      <td>2.243</td>\n",
       "      <td>2.70</td>\n",
       "      <td>19.00</td>\n",
       "      <td>-0.350</td>\n",
       "      <td>0</td>\n",
       "      <td>4.236718</td>\n",
       "    </tr>\n",
       "    <tr>\n",
       "      <td>2</td>\n",
       "      <td>516.219970</td>\n",
       "      <td>1.530000</td>\n",
       "      <td>4684.8142</td>\n",
       "      <td>12.3</td>\n",
       "      <td>13.80</td>\n",
       "      <td>0</td>\n",
       "      <td>0</td>\n",
       "      <td>1</td>\n",
       "      <td>71.823898</td>\n",
       "      <td>4213.0</td>\n",
       "      <td>1.930000</td>\n",
       "      <td>2.430</td>\n",
       "      <td>2.78</td>\n",
       "      <td>29.79</td>\n",
       "      <td>-0.020</td>\n",
       "      <td>0</td>\n",
       "      <td>1.560000</td>\n",
       "    </tr>\n",
       "    <tr>\n",
       "      <td>3</td>\n",
       "      <td>185.840000</td>\n",
       "      <td>0.830000</td>\n",
       "      <td>1525.5000</td>\n",
       "      <td>12.9</td>\n",
       "      <td>3.90</td>\n",
       "      <td>0</td>\n",
       "      <td>0</td>\n",
       "      <td>1</td>\n",
       "      <td>39.236198</td>\n",
       "      <td>4813.0</td>\n",
       "      <td>2.630000</td>\n",
       "      <td>1.763</td>\n",
       "      <td>2.20</td>\n",
       "      <td>11.00</td>\n",
       "      <td>-0.240</td>\n",
       "      <td>0</td>\n",
       "      <td>4.500000</td>\n",
       "    </tr>\n",
       "    <tr>\n",
       "      <td>4</td>\n",
       "      <td>1773.400020</td>\n",
       "      <td>2.930000</td>\n",
       "      <td>1481.0878</td>\n",
       "      <td>12.9</td>\n",
       "      <td>3.79</td>\n",
       "      <td>0</td>\n",
       "      <td>0</td>\n",
       "      <td>1</td>\n",
       "      <td>43.817646</td>\n",
       "      <td>5338.0</td>\n",
       "      <td>4.450000</td>\n",
       "      <td>-0.151</td>\n",
       "      <td>0.90</td>\n",
       "      <td>0.93</td>\n",
       "      <td>0.410</td>\n",
       "      <td>0</td>\n",
       "      <td>5.240000</td>\n",
       "    </tr>\n",
       "  </tbody>\n",
       "</table>\n",
       "</div>"
      ],
      "text/plain": [
       "        fpl_orbper  fpl_smax  fpl_bmasse  fpl_rade  fpl_dens  fpl_tranflag  \\\n",
       "rowid                                                                        \n",
       "0       365.256363  1.000001      1.0000       1.0      5.51             1   \n",
       "1       326.030000  1.290000   6165.6000      12.1     19.10             0   \n",
       "2       516.219970  1.530000   4684.8142      12.3     13.80             0   \n",
       "3       185.840000  0.830000   1525.5000      12.9      3.90             0   \n",
       "4      1773.400020  2.930000   1481.0878      12.9      3.79             0   \n",
       "\n",
       "       fpl_cbflag  fpl_snum        dec  fst_teff  fst_logg  fst_lum  fst_mass  \\\n",
       "rowid                                                                           \n",
       "0               0         1  23.400000     252.0  5.437751    0.000      1.00   \n",
       "1               0         1  17.792868    4742.0  2.310000    2.243      2.70   \n",
       "2               0         1  71.823898    4213.0  1.930000    2.430      2.78   \n",
       "3               0         1  39.236198    4813.0  2.630000    1.763      2.20   \n",
       "4               0         1  43.817646    5338.0  4.450000   -0.151      0.90   \n",
       "\n",
       "       fst_rad  fst_met  fst_metratio   fst_age  \n",
       "rowid                                            \n",
       "0         1.00    0.012             0  4.603000  \n",
       "1        19.00   -0.350             0  4.236718  \n",
       "2        29.79   -0.020             0  1.560000  \n",
       "3        11.00   -0.240             0  4.500000  \n",
       "4         0.93    0.410             0  5.240000  "
      ]
     },
     "metadata": {},
     "output_type": "display_data"
    },
    {
     "name": "stdout",
     "output_type": "stream",
     "text": [
      "cols with continuous values: ['fpl_orbper', 'fpl_smax', 'fpl_bmasse', 'fpl_rade', 'fpl_dens', 'fpl_tranflag', 'fpl_cbflag', 'fpl_snum', 'dec', 'fst_teff', 'fst_logg', 'fst_lum', 'fst_mass', 'fst_rad', 'fst_met', 'fst_age']\n",
      "cols with discrete values: ['fst_metratio']\n"
     ]
    }
   ],
   "source": [
    "display(df_modified.describe())\n",
    "\n",
    "df_modified.loc[0, \"fpl_orbper\"] = 365.256363 # orbital period in days\n",
    "df_modified.loc[0, \"fpl_smax\"] = 1.000001018 # the longest radius of an elliptic orbit\n",
    "df_modified.loc[0, \"fpl_bmasse\"] = 1 # mass of the planet (earth unit)\n",
    "df_modified.loc[0, \"fpl_rade\"] = 1 # radius (earth unit)\n",
    "df_modified.loc[0, \"fpl_dens\"] = 5.51 # density of the planet (g/cm**3)\n",
    "df_modified.loc[0, \"fpl_tranflag\"] = 1 # does planet transit the star\n",
    "df_modified.loc[0, \"fpl_cbflag\"] = 0 # does planet orbit a binary solar system\n",
    "df_modified.loc[0, \"fpl_snum\"] = 1 # number of stars in the solar system\n",
    "df_modified.loc[0, \"dec\"] = 23.4 # declination of the planetary system\n",
    "df_modified.drop(labels=[\"fst_optmag\"], axis=1, inplace=True) # optical magnitude\n",
    "dropColumn(\"fst_optmag\", [cont_cols, dis_cols])\n",
    "df_modified.drop(labels=[\"fst_nirmag\"], axis=1, inplace=True) # near-IR magnitude\n",
    "dropColumn(\"fst_nirmag\", [cont_cols, dis_cols])\n",
    "df_modified.loc[0, \"fst_teff\"] = 252 # effective temperature in Kelvins\n",
    "df_modified.loc[0, \"fst_logg\"] = 5.437751 # gravity acceleration at the star surface log10(cm/s**2)\n",
    "df_modified.loc[0, \"fst_lum\"] = 0 # star lumonisty log10(lumonisity)\n",
    "df_modified.loc[0, \"fst_mass\"] = 1 # stellar mass (sun unit)\n",
    "df_modified.loc[0, \"fst_rad\"] = 1 # stellar raidus (sun unit)\n",
    "df_modified.loc[0, \"fst_met\"] = 0.012 # star metallicity\n",
    "df_modified.loc[0, \"fst_metratio\"] = 0 # metal abundance (in comparison to sun)\n",
    "df_modified.loc[0, \"fst_age\"] = 4.603 # stellar age (in billions)\n",
    "df_modified.drop(labels=[\"simil\"], axis=1, inplace=True) # random similarity (for visualizing purposes)\n",
    "dropColumn(\"simil\", [cont_cols, dis_cols])\n",
    "\n",
    "display(df_modified.head())\n",
    "print(\"cols with continuous values:\", cont_cols)\n",
    "print(\"cols with discrete values:\", dis_cols)"
   ]
  },
  {
   "cell_type": "markdown",
   "metadata": {},
   "source": [
    "## 2. General Data Analysis\n",
    "> Analysing the data: \n",
    "* mean and deviation\n",
    "* distribution\n",
    "* joint distribution,\n",
    "* ... "
   ]
  },
  {
   "cell_type": "code",
   "execution_count": 20,
   "metadata": {},
   "outputs": [],
   "source": [
    "df_vis = df_modified.copy()\n",
    "# cont_cols -- continuous columns\n",
    "# dis_cols -- discrete columns"
   ]
  },
  {
   "cell_type": "markdown",
   "metadata": {},
   "source": [
    "### 2.1 Mean, Deviation and Ratio"
   ]
  },
  {
   "cell_type": "code",
   "execution_count": 21,
   "metadata": {
    "scrolled": true
   },
   "outputs": [
    {
     "name": "stderr",
     "output_type": "stream",
     "text": [
      "/Users/tottop/anaconda3/lib/python3.7/site-packages/pandas/core/series.py:853: RuntimeWarning: invalid value encountered in log10\n",
      "  result = getattr(ufunc, method)(*inputs, **kwargs)\n"
     ]
    },
    {
     "data": {
      "image/png": "[encoded data removed]",
      "text/plain": [
       "<Figure size 1080x360 with 1 Axes>"
      ]
     },
     "metadata": {},
     "output_type": "display_data"
    }
   ],
   "source": [
    "# log-scaled mean of the each variable with its standard deviation (sqrt from variance)\n",
    "\n",
    "mean_log = np.log10(df_vis[cont_cols].mean())\n",
    "std_log = np.log10(df_vis[cont_cols].std())\n",
    "y_vals = np.arange(len(mean_log))\n",
    "\n",
    "fix, ax = plt.subplots(figsize=(15,5))\n",
    "ax.errorbar(mean_log, y_vals, xerr=std_log, ls='none', fmt='o')\n",
    "ax.set_xlabel(\"Value\")\n",
    "ax.set_ylabel(\"Variable\")\n",
    "ax.set_yticks(y_vals)\n",
    "ax.set_yticklabels(cont_cols)\n",
    "ax.set_title(\"Log-scaled means + deviations\")\n",
    "plt.show()"
   ]
  },
  {
   "cell_type": "markdown",
   "metadata": {},
   "source": [
    "> As visible from the figure above, the stellar mass (fst_mass) is pretty constant across all the data. On the other hand orbital period varies from $ 10^{-2} $ to $ 10^8 $. All the values are log-scaled so it can be easily compared."
   ]
  },
  {
   "cell_type": "code",
   "execution_count": 22,
   "metadata": {},
   "outputs": [
    {
     "name": "stdout",
     "output_type": "stream",
     "text": [
      "In fst_metration (metal abundance): \n",
      "\t0 = iron abundance, \n",
      "\t1 = general metal abundance\n"
     ]
    },
    {
     "data": {
      "image/png": "[encoded data removed]",
      "text/plain": [
       "<Figure size 504x504 with 1 Axes>"
      ]
     },
     "metadata": {},
     "output_type": "display_data"
    }
   ],
   "source": [
    "for col in dis_cols:\n",
    "    val_count = df_vis[col].notnull().count()\n",
    "    labels = []\n",
    "    counts = []\n",
    "    for val in df_vis[col].unique():\n",
    "        labels.append(val)\n",
    "        #counts.append(df_vis[df_vis[col] == val][col].count() / val_count)\n",
    "        counts.append(df_vis[df_vis[col] == val][col].count())\n",
    "    fix, ax = plt.subplots(figsize=(7,7))\n",
    "    ax.pie(counts, labels=labels, autopct='%1.1f%%', pctdistance=0.75, radius=1)\n",
    "    ax.set_title(col)\n",
    "    \n",
    "print(\"In fst_metration (metal abundance): \\n\\t0 = iron abundance, \\n\\t1 = general metal abundance\")"
   ]
  },
  {
   "cell_type": "markdown",
   "metadata": {},
   "source": [
    "> Perhaps it's not even necessary to emphasize that at the most of the exoplanets there is a iron abundance..."
   ]
  },
  {
   "cell_type": "markdown",
   "metadata": {},
   "source": [
    "### 2.2 Density of Random Variable\n",
    "> Since there is 16 random variables, only a few of those that are interesting haven been chosen."
   ]
  },
  {
   "cell_type": "code",
   "execution_count": 40,
   "metadata": {
    "scrolled": false
   },
   "outputs": [
    {
     "data": {
      "image/png": "[encoded data removed]",
      "text/plain": [
       "<Figure size 1080x360 with 1 Axes>"
      ]
     },
     "metadata": {},
     "output_type": "display_data"
    },
    {
     "data": {
      "image/png": "[encoded data removed]",
      "text/plain": [
       "<Figure size 1080x360 with 1 Axes>"
      ]
     },
     "metadata": {},
     "output_type": "display_data"
    },
    {
     "data": {
      "image/png": "[encoded data removed]",
      "text/plain": [
       "<Figure size 1080x360 with 1 Axes>"
      ]
     },
     "metadata": {},
     "output_type": "display_data"
    },
    {
     "data": {
      "image/png": "[encoded data removed]",
      "text/plain": [
       "<Figure size 1080x360 with 1 Axes>"
      ]
     },
     "metadata": {},
     "output_type": "display_data"
    }
   ],
   "source": [
    "def displayDensity(data, earth):\n",
    "    fig, ax = plt.subplots(figsize=(15,5))\n",
    "    ax.set_title(\"Density: {}\".format(data.name))\n",
    "    ax.hist(data, density=True, bins=50)\n",
    "    ax.axvline(earth, color=\"red\", label=\"Earth\", linewidth=3)\n",
    "    \n",
    "int_dist = [\"fpl_rade\", \"dec\", \"fst_logg\", \"fst_age\"] # interesting columns\n",
    "    \n",
    "for col in int_dist:\n",
    "    displayDensity(df_vis[col], df_vis.loc[0, col])"
   ]
  },
  {
   "cell_type": "markdown",
   "metadata": {},
   "source": [
    "## 3. Similarity Computation\n",
    "> Computing similarity between earth and any other exoplanet"
   ]
  },
  {
   "cell_type": "code",
   "execution_count": null,
   "metadata": {},
   "outputs": [],
   "source": []
  },
  {
   "cell_type": "markdown",
   "metadata": {},
   "source": [
    "## 4. Clustering\n",
    "> Are the planets divided into some groups based on their parameters?"
   ]
  },
  {
   "cell_type": "code",
   "execution_count": null,
   "metadata": {},
   "outputs": [],
   "source": []
  }
 ],
 "metadata": {
  "kernelspec": {
   "display_name": "Python 3",
   "language": "python",
   "name": "python3"
  },
  "language_info": {
   "codemirror_mode": {
    "name": "ipython",
    "version": 3
   },
   "file_extension": ".py",
   "mimetype": "text/x-python",
   "name": "python",
   "nbconvert_exporter": "python",
   "pygments_lexer": "ipython3",
   "version": "3.7.4"
  }
 },
 "nbformat": 4,
 "nbformat_minor": 2
}
