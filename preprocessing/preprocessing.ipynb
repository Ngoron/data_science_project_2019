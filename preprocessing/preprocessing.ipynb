{
 "cells": [
  {
   "cell_type": "markdown",
   "metadata": {},
   "source": [
    "# Exoplanet Ranking\n",
    "Data discovering, preprocessing, computing simillarity and clustering.\n",
    "\n",
    "**!! What is actually an exoplanet?**"
   ]
  },
  {
   "cell_type": "markdown",
   "metadata": {},
   "source": [
    "## 1. Data Discovering\n",
    "> To detect the important data it's necessary to go through the dataset and check what the columns stand for, which are useful for further processing, what the columns stand for. In this stage we will also fill information about the Earth (planet with rowid 0), since actual data is \"random\".\n",
    "\n",
    "> Some data has been already removed in the very first processing (e.g. links, duplicated values, irrelevant data). Original dataset: `data/data_original.csv`"
   ]
  },
  {
   "cell_type": "code",
   "execution_count": null,
   "metadata": {},
   "outputs": [],
   "source": [
    "# imports\n",
    "#%matplotlib inline\n",
    "import pandas as pd\n",
    "import numpy as np\n",
    "import matplotlib.pyplot as plt\n",
    "plt.style.use('seaborn-white')"
   ]
  },
  {
   "cell_type": "code",
   "execution_count": null,
   "metadata": {
    "scrolled": true
   },
   "outputs": [],
   "source": [
    "# loading data\n",
    "df_origin = pd.read_csv(\"../data/data_preprocess.csv\", index_col=\"rowid\")\n",
    "print(\"Number of:\\n\\trows = {}\\n\\tcolumns = {}\".format(df_origin.shape[0], df_origin.shape[1]))\n",
    "display(df_origin.head())\n",
    "display(df_origin.info())"
   ]
  },
  {
   "cell_type": "markdown",
   "metadata": {},
   "source": [
    "### 1.1 Missing values"
   ]
  },
  {
   "cell_type": "code",
   "execution_count": null,
   "metadata": {
    "scrolled": true
   },
   "outputs": [],
   "source": [
    "# number of missing values in each column\n",
    "display(df_origin.notnull().sum() / (df_origin.notnull().sum() + df_origin.isnull().sum()))"
   ]
  },
  {
   "cell_type": "markdown",
   "metadata": {},
   "source": [
    "> The most of the values are fully filled, but there are two columns with missing values: column `fpl_eccen` and column `fst_spt`. `fpl_eccen` holds  the eccentricity of planet's orbit (Amount by which the orbit of the planet deviates from a perfect circle). `fst_spt` holds spectral type of the star that the planet orbits.\n",
    "> Since there is only 33 % -- 38 %  valid values, it is better to remove these columns then trying to compute the value using for example k-nn."
   ]
  },
  {
   "cell_type": "code",
   "execution_count": null,
   "metadata": {
    "scrolled": true
   },
   "outputs": [],
   "source": [
    "df_modified = df_origin.drop(labels=[\"fpl_eccen\", \"fst_spt\"], axis=1)\n",
    "print(df_modified.columns)"
   ]
  },
  {
   "cell_type": "markdown",
   "metadata": {},
   "source": [
    "### 1.2 Non-numeric values\n",
    "> There is a column `fst_metratio` containing information about which element is in abundance on the planet. The column contains data type `object`.\n"
   ]
  },
  {
   "cell_type": "code",
   "execution_count": null,
   "metadata": {},
   "outputs": [],
   "source": [
    "df_modified[\"fst_metratio\"].unique()"
   ]
  },
  {
   "cell_type": "markdown",
   "metadata": {},
   "source": [
    "> `Fe/H` denotes iron abundance and `M/H` or `m/H` denotes general metal content."
   ]
  },
  {
   "cell_type": "code",
   "execution_count": null,
   "metadata": {},
   "outputs": [],
   "source": [
    "# replacing all occurancies of \"m/H\" with \"M/H\" and then replacing with \n",
    "\n",
    "df_modified.loc[df_modified[\"fst_metratio\"] == \"[m/H]\", \"fst_metratio\"] = \"[M/H]\"\n",
    "df_modified[\"fst_metratio\"] = df_modified[\"fst_metratio\"].astype(\"category\")\n",
    "cat_columns = df_modified.select_dtypes(\"category\").columns\n",
    "cont_cols = list(df_modified.select_dtypes(exclude=\"category\").columns) # columns with continuous values\n",
    "dis_cols = list(cat_columns) # cols with discrete values\n",
    "df_modified[cat_columns] = df_modified[cat_columns].apply(lambda x: x.cat.codes)\n",
    "\n",
    "df_modified[\"fst_metratio\"].unique()"
   ]
  },
  {
   "cell_type": "markdown",
   "metadata": {},
   "source": [
    "## 1.3 Earth Filling-in"
   ]
  },
  {
   "cell_type": "code",
   "execution_count": null,
   "metadata": {},
   "outputs": [],
   "source": [
    "def dropColumn(elem, lists):\n",
    "    for l in lists:\n",
    "        if(elem in l):\n",
    "            l.remove(elem)"
   ]
  },
  {
   "cell_type": "code",
   "execution_count": null,
   "metadata": {},
   "outputs": [],
   "source": [
    "display(df_modified.describe())\n",
    "\n",
    "df_modified.loc[0, \"fpl_orbper\"] = 365.256363 # orbital period in days\n",
    "df_modified.loc[0, \"fpl_smax\"] = 1.000001018 # the longest radius of an elliptic orbit\n",
    "df_modified.loc[0, \"fpl_bmasse\"] = 1 # mass of the planet (earth unit)\n",
    "df_modified.loc[0, \"fpl_rade\"] = 1 # radius (earth unit)\n",
    "df_modified.loc[0, \"fpl_dens\"] = 5.51 # density of the planet (g/cm**3)\n",
    "df_modified.loc[0, \"fpl_tranflag\"] = 1 # does planet transit the star\n",
    "df_modified.loc[0, \"fpl_cbflag\"] = 0 # does planet orbit a binary solar system\n",
    "df_modified.loc[0, \"fpl_snum\"] = 1 # number of stars in the solar system\n",
    "df_modified.loc[0, \"dec\"] = 23.4 # declination of the planetary system\n",
    "df_modified.drop(labels=[\"fst_optmag\"], axis=1, inplace=True) # optical magnitude\n",
    "dropColumn(\"fst_optmag\", [cont_cols, dis_cols])\n",
    "df_modified.drop(labels=[\"fst_nirmag\"], axis=1, inplace=True) # near-IR magnitude\n",
    "dropColumn(\"fst_nirmag\", [cont_cols, dis_cols])\n",
    "df_modified.loc[0, \"fst_teff\"] = 252 # effective temperature in Kelvins\n",
    "df_modified.loc[0, \"fst_logg\"] = 5.437751 # gravity acceleration at the star surface log10(cm/s**2)\n",
    "df_modified.loc[0, \"fst_lum\"] = 0 # star lumonisty log10(lumonisity)\n",
    "df_modified.loc[0, \"fst_mass\"] = 1 # stellar mass (sun unit)\n",
    "df_modified.loc[0, \"fst_rad\"] = 1 # stellar raidus (sun unit)\n",
    "df_modified.loc[0, \"fst_met\"] = 0.012 # star metallicity\n",
    "df_modified.loc[0, \"fst_metratio\"] = 0 # metal abundance (in comparison to sun)\n",
    "df_modified.loc[0, \"fst_age\"] = 4.603 # stellar age (in billions)\n",
    "df_modified.drop(labels=[\"simil\"], axis=1, inplace=True) # random similarity (for visualizing purposes)\n",
    "dropColumn(\"simil\", [cont_cols, dis_cols])\n",
    "\n",
    "display(df_modified.head())\n",
    "print(\"cols with continuous values:\", cont_cols)\n",
    "print(\"cols with discrete values:\", dis_cols)"
   ]
  },
  {
   "cell_type": "markdown",
   "metadata": {},
   "source": [
    "## 2. General Data Analysis\n",
    "> Analysing the data: \n",
    "* mean and deviation\n",
    "* distribution\n",
    "* joint distribution,\n",
    "* ... "
   ]
  },
  {
   "cell_type": "code",
   "execution_count": null,
   "metadata": {},
   "outputs": [],
   "source": [
    "df_vis = df_modified.copy()\n",
    "# cont_cols -- continuous columns\n",
    "# dis_cols -- discrete columns"
   ]
  },
  {
   "cell_type": "markdown",
   "metadata": {},
   "source": [
    "### 2.1 Mean, Deviation and Ratio"
   ]
  },
  {
   "cell_type": "code",
   "execution_count": null,
   "metadata": {
    "scrolled": true
   },
   "outputs": [],
   "source": [
    "# log-scaled mean of the each variable with its standard deviation (sqrt from variance)\n",
    "\n",
    "mean_log = np.log10(df_vis[cont_cols].mean())\n",
    "std_log = np.log10(df_vis[cont_cols].std())\n",
    "y_vals = np.arange(len(mean_log))\n",
    "\n",
    "fix, ax = plt.subplots(figsize=(15,5))\n",
    "ax.errorbar(mean_log, y_vals, xerr=std_log, ls='none', fmt='o')\n",
    "ax.set_xlabel(\"Value\")\n",
    "ax.set_ylabel(\"Variable\")\n",
    "ax.set_yticks(y_vals)\n",
    "ax.set_yticklabels(cont_cols)\n",
    "ax.set_title(\"Log-scaled means + deviations\")\n",
    "plt.show()"
   ]
  },
  {
   "cell_type": "markdown",
   "metadata": {},
   "source": [
    "> As visible from the figure above, the stellar mass (fst_mass) is pretty constant across all the data. On the other hand orbital period varies from $ 10^{-2} $ to $ 10^8 $. All the values are log-scaled so it can be easily compared."
   ]
  },
  {
   "cell_type": "code",
   "execution_count": null,
   "metadata": {},
   "outputs": [],
   "source": [
    "for col in dis_cols:\n",
    "    val_count = df_vis[col].notnull().count()\n",
    "    labels = []\n",
    "    counts = []\n",
    "    for val in df_vis[col].unique():\n",
    "        labels.append(val)\n",
    "        #counts.append(df_vis[df_vis[col] == val][col].count() / val_count)\n",
    "        counts.append(df_vis[df_vis[col] == val][col].count())\n",
    "    fix, ax = plt.subplots(figsize=(7,7))\n",
    "    ax.pie(counts, labels=labels, autopct='%1.1f%%', pctdistance=0.75, radius=1)\n",
    "    ax.set_title(col)\n",
    "    \n",
    "print(\"In fst_metration (metal abundance): \\n\\t0 = iron abundance, \\n\\t1 = general metal abundance\")"
   ]
  },
  {
   "cell_type": "markdown",
   "metadata": {},
   "source": [
    "> Perhaps it's not even necessary to emphasize that at the most of the exoplanets there is a iron abundance..."
   ]
  },
  {
   "cell_type": "markdown",
   "metadata": {},
   "source": [
    "### 2.2 Density of Random Variable\n",
    "> Since there is 16 random variables, only a few of those that are interesting haven been chosen."
   ]
  },
  {
   "cell_type": "code",
   "execution_count": null,
   "metadata": {
    "scrolled": false
   },
   "outputs": [],
   "source": [
    "def displayDensity(data, earth):\n",
    "    fig, ax = plt.subplots(figsize=(15,5))\n",
    "    ax.set_title(\"Density: {}\".format(data.name))\n",
    "    ax.hist(data, density=True, bins=50)\n",
    "    ax.axvline(earth, color=\"red\", label=\"Earth\", linewidth=3)\n",
    "    \n",
    "int_dist = [\"fpl_rade\", \"dec\", \"fst_logg\", \"fst_age\"] # interesting columns\n",
    "    \n",
    "for col in int_dist:\n",
    "    displayDensity(df_vis[col], df_vis.loc[0, col])"
   ]
  },
  {
   "cell_type": "markdown",
   "metadata": {},
   "source": [
    "## 3. Similarity Computation\n",
    "> Computing similarity between earth and any other exoplanet"
   ]
  },
  {
   "cell_type": "code",
   "execution_count": null,
   "metadata": {},
   "outputs": [],
   "source": []
  },
  {
   "cell_type": "markdown",
   "metadata": {},
   "source": [
    "## 4. Clustering\n",
    "> Are the planets divided into some groups based on their parameters?"
   ]
  },
  {
   "cell_type": "code",
   "execution_count": null,
   "metadata": {},
   "outputs": [],
   "source": []
  }
 ],
 "metadata": {
  "kernelspec": {
   "display_name": "Python 3",
   "language": "python",
   "name": "python3"
  },
  "language_info": {
   "codemirror_mode": {
    "name": "ipython",
    "version": 3
   },
   "file_extension": ".py",
   "mimetype": "text/x-python",
   "name": "python",
   "nbconvert_exporter": "python",
   "pygments_lexer": "ipython3",
   "version": "3.7.4"
  }
 },
 "nbformat": 4,
 "nbformat_minor": 2
}
