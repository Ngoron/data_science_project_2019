{
 "cells": [
  {
   "cell_type": "markdown",
   "metadata": {},
   "source": [
    "# Exoplanet Ranking\n",
    "Data discovering, preprocessing, computing simillarity and clustering.\n",
    "\n",
    "**!! What is actually an exoplanet?**"
   ]
  },
  {
   "cell_type": "markdown",
   "metadata": {},
   "source": [
    "## 1. Data Discovering\n",
    "> To detect the important data it's necessary to go through the dataset and check what the columns stand for, which are useful for further processing, what the columns stand for. In this stage we will also fill information about the Earth (planet with rowid 0), since actual data is \"random\".\n",
    "\n",
    "> Some data has been already removed in the very first processing (e.g. links, duplicated values, irrelevant data). Original dataset: `data/data_original.csv`"
   ]
  },
  {
   "cell_type": "code",
   "execution_count": 56,
   "metadata": {},
   "outputs": [],
   "source": [
    "# imports\n",
    "import pandas as pd"
   ]
  },
  {
   "cell_type": "code",
   "execution_count": 57,
   "metadata": {
    "scrolled": true
   },
   "outputs": [
    {
     "name": "stdout",
     "output_type": "stream",
     "text": [
      "Number of:\n",
      "\trows = 4056\n",
      "\tcolumns = 22\n"
     ]
    },
    {
     "data": {
      "text/html": [
       "<div>\n",
       "<style scoped>\n",
       "    .dataframe tbody tr th:only-of-type {\n",
       "        vertical-align: middle;\n",
       "    }\n",
       "\n",
       "    .dataframe tbody tr th {\n",
       "        vertical-align: top;\n",
       "    }\n",
       "\n",
       "    .dataframe thead th {\n",
       "        text-align: right;\n",
       "    }\n",
       "</style>\n",
       "<table border=\"1\" class=\"dataframe\">\n",
       "  <thead>\n",
       "    <tr style=\"text-align: right;\">\n",
       "      <th></th>\n",
       "      <th>fpl_orbper</th>\n",
       "      <th>fpl_smax</th>\n",
       "      <th>fpl_eccen</th>\n",
       "      <th>fpl_bmasse</th>\n",
       "      <th>fpl_rade</th>\n",
       "      <th>fpl_dens</th>\n",
       "      <th>fpl_tranflag</th>\n",
       "      <th>fpl_cbflag</th>\n",
       "      <th>fpl_snum</th>\n",
       "      <th>dec</th>\n",
       "      <th>...</th>\n",
       "      <th>fst_spt</th>\n",
       "      <th>fst_teff</th>\n",
       "      <th>fst_logg</th>\n",
       "      <th>fst_lum</th>\n",
       "      <th>fst_mass</th>\n",
       "      <th>fst_rad</th>\n",
       "      <th>fst_met</th>\n",
       "      <th>fst_metratio</th>\n",
       "      <th>fst_age</th>\n",
       "      <th>simil</th>\n",
       "    </tr>\n",
       "    <tr>\n",
       "      <th>rowid</th>\n",
       "      <th></th>\n",
       "      <th></th>\n",
       "      <th></th>\n",
       "      <th></th>\n",
       "      <th></th>\n",
       "      <th></th>\n",
       "      <th></th>\n",
       "      <th></th>\n",
       "      <th></th>\n",
       "      <th></th>\n",
       "      <th></th>\n",
       "      <th></th>\n",
       "      <th></th>\n",
       "      <th></th>\n",
       "      <th></th>\n",
       "      <th></th>\n",
       "      <th></th>\n",
       "      <th></th>\n",
       "      <th></th>\n",
       "      <th></th>\n",
       "      <th></th>\n",
       "    </tr>\n",
       "  </thead>\n",
       "  <tbody>\n",
       "    <tr>\n",
       "      <td>0</td>\n",
       "      <td>1000.00000</td>\n",
       "      <td>3.00</td>\n",
       "      <td>0.300</td>\n",
       "      <td>1000.0000</td>\n",
       "      <td>12.4</td>\n",
       "      <td>10.00</td>\n",
       "      <td>0</td>\n",
       "      <td>0</td>\n",
       "      <td>1</td>\n",
       "      <td>30.000000</td>\n",
       "      <td>...</td>\n",
       "      <td>K0 III</td>\n",
       "      <td>4742.0</td>\n",
       "      <td>3.00</td>\n",
       "      <td>1.000</td>\n",
       "      <td>1.50</td>\n",
       "      <td>7.00</td>\n",
       "      <td>-0.01</td>\n",
       "      <td>[Fe/H]</td>\n",
       "      <td>0.400000</td>\n",
       "      <td>84.0188</td>\n",
       "    </tr>\n",
       "    <tr>\n",
       "      <td>1</td>\n",
       "      <td>326.03000</td>\n",
       "      <td>1.29</td>\n",
       "      <td>0.231</td>\n",
       "      <td>6165.6000</td>\n",
       "      <td>12.1</td>\n",
       "      <td>19.10</td>\n",
       "      <td>0</td>\n",
       "      <td>0</td>\n",
       "      <td>1</td>\n",
       "      <td>17.792868</td>\n",
       "      <td>...</td>\n",
       "      <td>K0 III</td>\n",
       "      <td>4742.0</td>\n",
       "      <td>2.31</td>\n",
       "      <td>2.243</td>\n",
       "      <td>2.70</td>\n",
       "      <td>19.00</td>\n",
       "      <td>-0.35</td>\n",
       "      <td>[Fe/H]</td>\n",
       "      <td>4.236718</td>\n",
       "      <td>39.4383</td>\n",
       "    </tr>\n",
       "    <tr>\n",
       "      <td>2</td>\n",
       "      <td>516.21997</td>\n",
       "      <td>1.53</td>\n",
       "      <td>0.080</td>\n",
       "      <td>4684.8142</td>\n",
       "      <td>12.3</td>\n",
       "      <td>13.80</td>\n",
       "      <td>0</td>\n",
       "      <td>0</td>\n",
       "      <td>1</td>\n",
       "      <td>71.823898</td>\n",
       "      <td>...</td>\n",
       "      <td>K4 III</td>\n",
       "      <td>4213.0</td>\n",
       "      <td>1.93</td>\n",
       "      <td>2.430</td>\n",
       "      <td>2.78</td>\n",
       "      <td>29.79</td>\n",
       "      <td>-0.02</td>\n",
       "      <td>[Fe/H]</td>\n",
       "      <td>1.560000</td>\n",
       "      <td>78.3099</td>\n",
       "    </tr>\n",
       "    <tr>\n",
       "      <td>3</td>\n",
       "      <td>185.84000</td>\n",
       "      <td>0.83</td>\n",
       "      <td>0.000</td>\n",
       "      <td>1525.5000</td>\n",
       "      <td>12.9</td>\n",
       "      <td>3.90</td>\n",
       "      <td>0</td>\n",
       "      <td>0</td>\n",
       "      <td>1</td>\n",
       "      <td>39.236198</td>\n",
       "      <td>...</td>\n",
       "      <td>G8 III</td>\n",
       "      <td>4813.0</td>\n",
       "      <td>2.63</td>\n",
       "      <td>1.763</td>\n",
       "      <td>2.20</td>\n",
       "      <td>11.00</td>\n",
       "      <td>-0.24</td>\n",
       "      <td>[Fe/H]</td>\n",
       "      <td>4.500000</td>\n",
       "      <td>79.8440</td>\n",
       "    </tr>\n",
       "    <tr>\n",
       "      <td>4</td>\n",
       "      <td>1773.40002</td>\n",
       "      <td>2.93</td>\n",
       "      <td>0.370</td>\n",
       "      <td>1481.0878</td>\n",
       "      <td>12.9</td>\n",
       "      <td>3.79</td>\n",
       "      <td>0</td>\n",
       "      <td>0</td>\n",
       "      <td>1</td>\n",
       "      <td>43.817646</td>\n",
       "      <td>...</td>\n",
       "      <td>K0 V</td>\n",
       "      <td>5338.0</td>\n",
       "      <td>4.45</td>\n",
       "      <td>-0.151</td>\n",
       "      <td>0.90</td>\n",
       "      <td>0.93</td>\n",
       "      <td>0.41</td>\n",
       "      <td>[Fe/H]</td>\n",
       "      <td>5.240000</td>\n",
       "      <td>91.1647</td>\n",
       "    </tr>\n",
       "  </tbody>\n",
       "</table>\n",
       "<p>5 rows × 22 columns</p>\n",
       "</div>"
      ],
      "text/plain": [
       "       fpl_orbper  fpl_smax  fpl_eccen  fpl_bmasse  fpl_rade  fpl_dens  \\\n",
       "rowid                                                                    \n",
       "0      1000.00000      3.00      0.300   1000.0000      12.4     10.00   \n",
       "1       326.03000      1.29      0.231   6165.6000      12.1     19.10   \n",
       "2       516.21997      1.53      0.080   4684.8142      12.3     13.80   \n",
       "3       185.84000      0.83      0.000   1525.5000      12.9      3.90   \n",
       "4      1773.40002      2.93      0.370   1481.0878      12.9      3.79   \n",
       "\n",
       "       fpl_tranflag  fpl_cbflag  fpl_snum        dec  ...  fst_spt  fst_teff  \\\n",
       "rowid                                                 ...                      \n",
       "0                 0           0         1  30.000000  ...   K0 III    4742.0   \n",
       "1                 0           0         1  17.792868  ...   K0 III    4742.0   \n",
       "2                 0           0         1  71.823898  ...   K4 III    4213.0   \n",
       "3                 0           0         1  39.236198  ...   G8 III    4813.0   \n",
       "4                 0           0         1  43.817646  ...     K0 V    5338.0   \n",
       "\n",
       "      fst_logg  fst_lum  fst_mass  fst_rad  fst_met  fst_metratio   fst_age  \\\n",
       "rowid                                                                         \n",
       "0         3.00    1.000      1.50     7.00    -0.01        [Fe/H]  0.400000   \n",
       "1         2.31    2.243      2.70    19.00    -0.35        [Fe/H]  4.236718   \n",
       "2         1.93    2.430      2.78    29.79    -0.02        [Fe/H]  1.560000   \n",
       "3         2.63    1.763      2.20    11.00    -0.24        [Fe/H]  4.500000   \n",
       "4         4.45   -0.151      0.90     0.93     0.41        [Fe/H]  5.240000   \n",
       "\n",
       "         simil  \n",
       "rowid           \n",
       "0      84.0188  \n",
       "1      39.4383  \n",
       "2      78.3099  \n",
       "3      79.8440  \n",
       "4      91.1647  \n",
       "\n",
       "[5 rows x 22 columns]"
      ]
     },
     "metadata": {},
     "output_type": "display_data"
    },
    {
     "name": "stdout",
     "output_type": "stream",
     "text": [
      "<class 'pandas.core.frame.DataFrame'>\n",
      "Int64Index: 4056 entries, 0 to 4055\n",
      "Data columns (total 22 columns):\n",
      "fpl_orbper      4056 non-null float64\n",
      "fpl_smax        4056 non-null float64\n",
      "fpl_eccen       1553 non-null float64\n",
      "fpl_bmasse      4056 non-null float64\n",
      "fpl_rade        4056 non-null float64\n",
      "fpl_dens        4056 non-null float64\n",
      "fpl_tranflag    4056 non-null int64\n",
      "fpl_cbflag      4056 non-null int64\n",
      "fpl_snum        4056 non-null int64\n",
      "dec             4056 non-null float64\n",
      "fst_optmag      4056 non-null float64\n",
      "fst_nirmag      4056 non-null float64\n",
      "fst_spt         1366 non-null object\n",
      "fst_teff        4056 non-null float64\n",
      "fst_logg        4056 non-null float64\n",
      "fst_lum         4056 non-null float64\n",
      "fst_mass        4056 non-null float64\n",
      "fst_rad         4056 non-null float64\n",
      "fst_met         4056 non-null float64\n",
      "fst_metratio    4056 non-null object\n",
      "fst_age         4056 non-null float64\n",
      "simil           4056 non-null float64\n",
      "dtypes: float64(17), int64(3), object(2)\n",
      "memory usage: 728.8+ KB\n"
     ]
    },
    {
     "data": {
      "text/plain": [
       "None"
      ]
     },
     "metadata": {},
     "output_type": "display_data"
    }
   ],
   "source": [
    "# loading data\n",
    "df_origin = pd.read_csv(\"../data/data_preprocess.csv\", index_col=\"rowid\")\n",
    "print(\"Number of:\\n\\trows = {}\\n\\tcolumns = {}\".format(df_origin.shape[0], df_origin.shape[1]))\n",
    "display(df_origin.head())\n",
    "display(df_origin.info())"
   ]
  },
  {
   "cell_type": "markdown",
   "metadata": {},
   "source": [
    "### 1.1 Missing values"
   ]
  },
  {
   "cell_type": "code",
   "execution_count": 58,
   "metadata": {
    "scrolled": true
   },
   "outputs": [
    {
     "data": {
      "text/plain": [
       "fpl_orbper      1.000000\n",
       "fpl_smax        1.000000\n",
       "fpl_eccen       0.382890\n",
       "fpl_bmasse      1.000000\n",
       "fpl_rade        1.000000\n",
       "fpl_dens        1.000000\n",
       "fpl_tranflag    1.000000\n",
       "fpl_cbflag      1.000000\n",
       "fpl_snum        1.000000\n",
       "dec             1.000000\n",
       "fst_optmag      1.000000\n",
       "fst_nirmag      1.000000\n",
       "fst_spt         0.336785\n",
       "fst_teff        1.000000\n",
       "fst_logg        1.000000\n",
       "fst_lum         1.000000\n",
       "fst_mass        1.000000\n",
       "fst_rad         1.000000\n",
       "fst_met         1.000000\n",
       "fst_metratio    1.000000\n",
       "fst_age         1.000000\n",
       "simil           1.000000\n",
       "dtype: float64"
      ]
     },
     "metadata": {},
     "output_type": "display_data"
    }
   ],
   "source": [
    "# number of missing values in each column\n",
    "display(df_origin.notnull().sum() / (df_origin.notnull().sum() + df_origin.isnull().sum()))"
   ]
  },
  {
   "cell_type": "markdown",
   "metadata": {},
   "source": [
    "> The most of the values are fully filled, but there are two columns with missing values: column `fpl_eccen` and column `fst_spt`. `fpl_eccen` holds  the eccentricity of planet's orbit (Amount by which the orbit of the planet deviates from a perfect circle). `fst_spt` holds spectral type of the star that the planet orbits.\n",
    "> Since there is only 33 % -- 38 %  valid values, it is better to remove these columns then trying to compute the value using for example k-nn."
   ]
  },
  {
   "cell_type": "code",
   "execution_count": 59,
   "metadata": {
    "scrolled": true
   },
   "outputs": [
    {
     "name": "stdout",
     "output_type": "stream",
     "text": [
      "Index(['fpl_orbper', 'fpl_smax', 'fpl_bmasse', 'fpl_rade', 'fpl_dens',\n",
      "       'fpl_tranflag', 'fpl_cbflag', 'fpl_snum', 'dec', 'fst_optmag',\n",
      "       'fst_nirmag', 'fst_teff', 'fst_logg', 'fst_lum', 'fst_mass', 'fst_rad',\n",
      "       'fst_met', 'fst_metratio', 'fst_age', 'simil'],\n",
      "      dtype='object')\n"
     ]
    }
   ],
   "source": [
    "df_modified = df_origin.drop(labels=[\"fpl_eccen\", \"fst_spt\"], axis=1)\n",
    "print(df_modified.columns)"
   ]
  },
  {
   "cell_type": "markdown",
   "metadata": {},
   "source": [
    "### 1.2 Non-numeric values\n",
    "> There is a column `fst_metratio` containing information about which element is in abundance on the planet. The column contains data type `object`.\n"
   ]
  },
  {
   "cell_type": "code",
   "execution_count": 60,
   "metadata": {},
   "outputs": [
    {
     "data": {
      "text/plain": [
       "array(['[Fe/H]', '[M/H]', '[m/H]'], dtype=object)"
      ]
     },
     "execution_count": 60,
     "metadata": {},
     "output_type": "execute_result"
    }
   ],
   "source": [
    "df_modified[\"fst_metratio\"].unique()"
   ]
  },
  {
   "cell_type": "markdown",
   "metadata": {},
   "source": [
    "> `Fe/H` denotes iron abundance and `M/H` or `m/H` denotes general metal content."
   ]
  },
  {
   "cell_type": "code",
   "execution_count": 62,
   "metadata": {},
   "outputs": [
    {
     "data": {
      "text/plain": [
       "array([0, 1])"
      ]
     },
     "execution_count": 62,
     "metadata": {},
     "output_type": "execute_result"
    }
   ],
   "source": [
    "# replacing all occurancies of \"m/H\" with \"M/H\" and then replacing with \n",
    "\n",
    "df_modified.loc[df_modified[\"fst_metratio\"] == \"[m/H]\", \"fst_metratio\"] = \"[M/H]\"\n",
    "df_modified[\"fst_metratio\"] = df_modified[\"fst_metratio\"].astype(\"category\")\n",
    "cat_columns = df_modified.select_dtypes(\"category\").columns\n",
    "df_modified[cat_columns] = df_modified[cat_columns].apply(lambda x: x.cat.codes)\n",
    "\n",
    "df_modified[\"fst_metratio\"].unique()"
   ]
  },
  {
   "cell_type": "markdown",
   "metadata": {},
   "source": [
    "## 2. Data Preprocessing\n",
    "> Improving quality of results"
   ]
  },
  {
   "cell_type": "code",
   "execution_count": null,
   "metadata": {},
   "outputs": [],
   "source": []
  },
  {
   "cell_type": "markdown",
   "metadata": {},
   "source": [
    "## 3. Visualizing\n",
    "> Visualizing what data looks like, checking correlations,..."
   ]
  },
  {
   "cell_type": "code",
   "execution_count": null,
   "metadata": {},
   "outputs": [],
   "source": []
  },
  {
   "cell_type": "markdown",
   "metadata": {},
   "source": [
    "## 4. Similarity Computation\n",
    "> Computing similarity between earth and any other exoplanet"
   ]
  },
  {
   "cell_type": "code",
   "execution_count": null,
   "metadata": {},
   "outputs": [],
   "source": []
  },
  {
   "cell_type": "markdown",
   "metadata": {},
   "source": [
    "## 5. Clustering\n",
    "> Are the planets divided into some groups based on their parameters?"
   ]
  },
  {
   "cell_type": "code",
   "execution_count": null,
   "metadata": {},
   "outputs": [],
   "source": []
  }
 ],
 "metadata": {
  "kernelspec": {
   "display_name": "Python 3",
   "language": "python",
   "name": "python3"
  },
  "language_info": {
   "codemirror_mode": {
    "name": "ipython",
    "version": 3
   },
   "file_extension": ".py",
   "mimetype": "text/x-python",
   "name": "python",
   "nbconvert_exporter": "python",
   "pygments_lexer": "ipython3",
   "version": "3.7.4"
  }
 },
 "nbformat": 4,
 "nbformat_minor": 2
}
